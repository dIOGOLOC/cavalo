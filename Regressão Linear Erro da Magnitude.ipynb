{
 "metadata": {
  "name": "Regress\u00e3o Linear Erro da Magnitude"
 },
 "nbformat": 3,
 "nbformat_minor": 0,
 "worksheets": [
  {
   "cells": [
    {
     "cell_type": "code",
     "collapsed": false,
     "input": [
      "%pylab inline"
     ],
     "language": "python",
     "metadata": {},
     "outputs": [
      {
       "output_type": "stream",
       "stream": "stdout",
       "text": [
        "\n",
        "Welcome to pylab, a matplotlib-based Python environment [backend: module://IPython.zmq.pylab.backend_inline].\n",
        "For more information, type 'help(pylab)'.\n"
       ]
      }
     ],
     "prompt_number": 29
    },
    {
     "cell_type": "code",
     "collapsed": false,
     "input": [
      "from __future__ import print_function\n",
      "import numpy as np\n",
      "import matplotlib.pyplot as plt"
     ],
     "language": "python",
     "metadata": {},
     "outputs": [],
     "prompt_number": 30
    },
    {
     "cell_type": "code",
     "collapsed": false,
     "input": [
      "#Importando os dados observados:\n",
      "\n",
      "tabela=np.loadtxt('C:\\Users\\dIOGO\\Documents\\dados_helio\\TriAnd_SDSS1.dat',delimiter=',',unpack=True)"
     ],
     "language": "python",
     "metadata": {},
     "outputs": [],
     "prompt_number": 31
    },
    {
     "cell_type": "code",
     "collapsed": false,
     "input": [
      "#Sigma observado:\n",
      "\n",
      "sobs=tabela[8]\n",
      "N=len(sobs)\n",
      "\n",
      "#Calculando os dados pelo modelo Direto:\n",
      "#sc=dados calculados:\n",
      "\n",
      "m=tabela[4]\n",
      "G=np.empty([N,3])\n",
      "p=[.19,3,4]\n",
      "A,B,C=p\n",
      "G[:,0]=1/A\n",
      "G[:,1]=-1*np.ones(N)\n",
      "G[:,2]=m\n",
      "sc=np.dot(G,p)\n",
      "print(G)"
     ],
     "language": "python",
     "metadata": {},
     "outputs": [
      {
       "output_type": "stream",
       "stream": "stdout",
       "text": [
        "[[  5.26315789  -1.          17.139     ]\n",
        " [  5.26315789  -1.          15.116     ]\n",
        " [  5.26315789  -1.          14.408     ]\n",
        " ..., \n",
        " [  5.26315789  -1.          19.418     ]\n",
        " [  5.26315789  -1.          20.209     ]\n",
        " [  5.26315789  -1.          22.535     ]]\n"
       ]
      }
     ],
     "prompt_number": 32
    },
    {
     "cell_type": "code",
     "collapsed": false,
     "input": [
      "#Calculando a Norma L1\n",
      "#Calcula-se o res\u00edduo e estipula-se uma toler\u00e2ncia para o res\u00edduo(tolrs) e outra para o ajuste(tolx).\n",
      "#Para assim fazer um calculo interativo do peso. (M\u00ednimos reponderados)\n",
      "\n",
      "tolrs=0.0005\n",
      "tolx=0.0005\n",
      "rs=sc-sobs\n",
      "norma1=np.linalg.norm(rs)\n",
      "\n",
      "for i in range(15):\n",
      "    \n",
      "    w=1./tolrs*np.ones_like(rs)\n",
      "    w[np.abs(rs)>=tolrs]=np.abs(1./rs[np.abs(rs)>=tolrs])\n",
      "    W=np.diag(w)\n",
      "    pl1a=np.dot(W,G)\n",
      "    pl1b=np.linalg.inv(np.dot(G.T,pl1a))\n",
      "    pl1c=np.dot(pl1b,G.T)\n",
      "    pl1d=np.dot(pl1c,W)\n",
      "    pl1=np.dot(pl1d,sobs)\n",
      "    sc=np.dot(G,pl1)\n",
      "    rs=sc-sobs\n",
      "    if abs(np.linalg.norm(rs,1)-norma1)/norma1 < tolx:\n",
      "        break\n",
      "    norm1=np.linalg.norm(rs,1)"
     ],
     "language": "python",
     "metadata": {},
     "outputs": [],
     "prompt_number": 33
    },
    {
     "cell_type": "code",
     "collapsed": false,
     "input": [
      "#Voltando a fun\u00e7\u00e3o para exponencial:\n",
      "print(sc)\n",
      "sy=np.log(sobs)\n",
      "print(sy)\n",
      "\n"
     ],
     "language": "python",
     "metadata": {},
     "outputs": [
      {
       "output_type": "stream",
       "stream": "stdout",
       "text": [
        "[-0.03720298 -0.13815817 -0.17348999 ...,  0.07652756  0.11600139\n",
        "  0.23207741]\n",
        "[-3.54484734 -3.55050944 -3.55095224 ..., -3.70831919 -3.53254396\n",
        " -2.10709479]\n"
       ]
      }
     ],
     "prompt_number": 37
    },
    {
     "cell_type": "code",
     "collapsed": false,
     "input": [
      "#Fazendo o gr\u00e1fico comparando as normas L1 e L2:\n",
      "plt.plot(m,sc,'.k',m,sy,'.r')\n",
      "plt.legend(('L1', 'sobs'),'lower right', fancybox=True)\n",
      "#plt.ylim(0,0.20)\n",
      "plt.xlabel('x')\n",
      "plt.ylabel('y')"
     ],
     "language": "python",
     "metadata": {},
     "outputs": [
      {
       "output_type": "pyout",
       "prompt_number": 39,
       "text": [
        "<matplotlib.text.Text at 0xcf0a350>"
       ]
      },
      {
       "output_type": "display_data",
       "png": "[encoded data removed]"
      }
     ],
     "prompt_number": 39
    },
    {
     "cell_type": "code",
     "collapsed": false,
     "input": [
      "plt.plot(m,sobs,'.r')\n",
      "plt.legend(('L1', 'sobs'),'lower right', fancybox=True)\n",
      "plt.xlabel('x')\n",
      "plt.ylabel('y')"
     ],
     "language": "python",
     "metadata": {},
     "outputs": [
      {
       "output_type": "pyout",
       "prompt_number": 36,
       "text": [
        "<matplotlib.text.Text at 0xcbed470>"
       ]
      },
      {
       "output_type": "display_data",
       "png": "[encoded data removed]"
      }
     ],
     "prompt_number": 36
    },
    {
     "cell_type": "code",
     "collapsed": false,
     "input": [
      "#Calculando atrav\u00e9s da Norma L2:\n",
      "\n",
      "b=np.linalg.inv(np.dot(G.T,G))\n",
      "c=np.dot(b,G.T)\n",
      "pl2=np.dot(c,sobs)\n",
      "\n",
      "print(pl2)\n"
     ],
     "language": "python",
     "metadata": {},
     "outputs": [
      {
       "output_type": "stream",
       "stream": "stdout",
       "text": [
        "[-0.09257733  0.93191568  0.07707352]\n"
       ]
      }
     ],
     "prompt_number": 40
    },
    {
     "cell_type": "code",
     "collapsed": false,
     "input": [
      "sl2=np.dot(G,pl2)\n",
      "print(sl2)"
     ],
     "language": "python",
     "metadata": {},
     "outputs": [
      {
       "output_type": "stream",
       "stream": "stdout",
       "text": [
        "[-0.09820166 -0.2541214  -0.30868945 ...,  0.0774489   0.13841406\n",
        "  0.31768707]\n"
       ]
      }
     ],
     "prompt_number": 42
    },
    {
     "cell_type": "code",
     "collapsed": false,
     "input": [
      "plt.plot(m,sl2,'.k',m,sobs,'.r')\n",
      "plt.legend(('L2', 'sobs'),'lower right', fancybox=True)\n",
      "plt.ylim(0,0.20)\n",
      "plt.xlabel('x')\n",
      "plt.ylabel('y')"
     ],
     "language": "python",
     "metadata": {},
     "outputs": [
      {
       "output_type": "pyout",
       "prompt_number": 47,
       "text": [
        "<matplotlib.text.Text at 0xd75c350>"
       ]
      },
      {
       "output_type": "display_data",
       "png": "[encoded data removed]"
      }
     ],
     "prompt_number": 47
    },
    {
     "cell_type": "code",
     "collapsed": false,
     "input": [],
     "language": "python",
     "metadata": {},
     "outputs": []
    }
   ],
   "metadata": {}
  }
 ]
}