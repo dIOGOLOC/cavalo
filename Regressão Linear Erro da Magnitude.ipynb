{
 "metadata": {
  "name": "Regress\u00e3o Linear Erro da Magnitude"
 },
 "nbformat": 3,
 "nbformat_minor": 0,
 "worksheets": [
  {
   "cells": [
    {
     "cell_type": "code",
     "collapsed": false,
     "input": [
      "%pylab inline"
     ],
     "language": "python",
     "metadata": {},
     "outputs": [
      {
       "output_type": "stream",
       "stream": "stdout",
       "text": [
        "\n",
        "Welcome to pylab, a matplotlib-based Python environment [backend: module://IPython.zmq.pylab.backend_inline].\n",
        "For more information, type 'help(pylab)'.\n"
       ]
      }
     ],
     "prompt_number": 1
    },
    {
     "cell_type": "code",
     "collapsed": false,
     "input": [
      "from __future__ import print_function\n",
      "import numpy as np\n",
      "import matplotlib.pyplot as plt"
     ],
     "language": "python",
     "metadata": {},
     "outputs": [],
     "prompt_number": 2
    },
    {
     "cell_type": "code",
     "collapsed": false,
     "input": [
      "#Importando os dados observados:\n",
      "\n",
      "y=np.load('C:\\Users\\dIOGO\\Documents\\dados_helio\\TriAnd_SDSS1',delimiter=',',unpack=True)"
     ],
     "language": "python",
     "metadata": {},
     "outputs": []
    },
    {
     "cell_type": "code",
     "collapsed": false,
     "input": [
      "#Desclarando as vari\u00e1veis:\n",
      "\n",
      "m=tabela[4]\n",
      "d=tabela[8]"
     ],
     "language": "python",
     "metadata": {},
     "outputs": []
    },
    {
     "cell_type": "code",
     "collapsed": false,
     "input": [
      "#Calculando a Norma L1\n",
      "#Calcula-se o res\u00edduo e estipula-se uma toler\u00e2ncia para o res\u00edduo(tolrs) e outra para o ajuste(tolx).\n",
      "#Para assim fazer um calculo interativo do peso. (M\u00ednimos reponderados)\n",
      "\n",
      "tolrs=0.000005\n",
      "tolx=0.000005\n",
      "rs=y1-yobs\n",
      "norma1=np.linalg.norm(rs)\n",
      "\n",
      "for i in range(len(y2)):\n",
      "    \n",
      "    w=1./tolrs*np.ones_like(rs)\n",
      "    w[np.abs(rs)>=tolrs]=np.abs(1./rs[np.abs(rs)>=tolrs])\n",
      "    W=np.diag(w)\n",
      "    pl1a=np.dot(W,a)\n",
      "    pl1b=np.linalg.inv(np.dot(a.T,pl1a))\n",
      "    pl1c=np.dot(pl1b,a.T)\n",
      "    pl1d=np.dot(pl1c,W)\n",
      "    pl1=np.dot(pl1d,yobs)\n",
      "    y1=np.dot(a,pl1)\n",
      "    rs=y1-yobs\n",
      "    if abs(np.linalg.norm(rs,1)-norma1)/norma1 < tolx:\n",
      "        break\n",
      "    norm1=np.linalg.norm(rs,1)"
     ],
     "language": "python",
     "metadata": {},
     "outputs": []
    },
    {
     "cell_type": "code",
     "collapsed": false,
     "input": [
      "#Fazendo o gr\u00e1fico comparando as normas L1 e L2:\n",
      "plt.plot(x,yobs,'.r',x,y1,'--k')\n",
      "plt.legend(('yobs', 'y L1'),'lower right', fancybox=True)\n",
      "plt.xlabel('x')\n",
      "plt.ylabel('y')"
     ],
     "language": "python",
     "metadata": {},
     "outputs": []
    },
    {
     "cell_type": "code",
     "collapsed": false,
     "input": [],
     "language": "python",
     "metadata": {},
     "outputs": []
    },
    {
     "cell_type": "code",
     "collapsed": false,
     "input": [],
     "language": "python",
     "metadata": {},
     "outputs": []
    }
   ],
   "metadata": {}
  }
 ]
}