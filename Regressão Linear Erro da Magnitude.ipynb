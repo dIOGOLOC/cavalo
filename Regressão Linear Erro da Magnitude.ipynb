{
 "metadata": {
  "name": "Regress\u00e3o Linear Erro da Magnitude"
 },
 "nbformat": 3,
 "nbformat_minor": 0,
 "worksheets": [
  {
   "cells": [
    {
     "cell_type": "code",
     "collapsed": false,
     "input": [
      "%pylab inline"
     ],
     "language": "python",
     "metadata": {},
     "outputs": [
      {
       "output_type": "stream",
       "stream": "stdout",
       "text": [
        "\n",
        "Welcome to pylab, a matplotlib-based Python environment [backend: module://IPython.zmq.pylab.backend_inline].\n",
        "For more information, type 'help(pylab)'.\n"
       ]
      }
     ],
     "prompt_number": 1
    },
    {
     "cell_type": "code",
     "collapsed": false,
     "input": [
      "from __future__ import print_function\n",
      "import numpy as np\n",
      "import matplotlib.pyplot as plt"
     ],
     "language": "python",
     "metadata": {},
     "outputs": [],
     "prompt_number": 2
    },
    {
     "cell_type": "code",
     "collapsed": false,
     "input": [
      "#Importando os dados observados:\n",
      "\n",
      "tabela=np.loadtxt('C:\\Users\\dIOGO\\Documents\\dados_helio\\TriAnd_SDSS2.dat',delimiter=',',unpack=True)"
     ],
     "language": "python",
     "metadata": {},
     "outputs": [],
     "prompt_number": 3
    },
    {
     "cell_type": "code",
     "collapsed": false,
     "input": [
      "#Inicialmente lineariza-se a equa\u00e7\u00e3o: s(m)= A + exp(C*m-B).\n",
      "#A equa\u00e7\u00e3o linearizada \u00e9: ln(s(m))= ln A + C*m - B.\n",
      "#Sigma observado pelo m\u00e9todo dos m\u00ednimos quadrados(sobredeterminado):\n",
      "\n",
      "sobs=tabela[8]\n",
      "N=len(sobs)\n",
      "\n",
      "#Calculando os dados pelo modelo Direto:\n",
      "#sc=sigma calculado:\n",
      "\n",
      "m=tabela[4] #magnitude\n",
      "G=np.empty([N,3]) #Declarando a matriz G, com tamanho N por 3(n\u00famero de vari\u00e1veis)\n",
      "p=[.19,3,4] #Chute inicial dos par\u00e2metros\n",
      "A,B,C=p #Declarando os par\u00e2metros\n",
      "G[:,0]=1/A #Derivada em rela\u00e7\u00e3o a A\n",
      "G[:,1]=-1*np.ones(N) #Derivada em rela\u00e7\u00e3o a B\n",
      "G[:,2]=m ##Derivada em rela\u00e7\u00e3o a C\n",
      "\n",
      "sc=np.dot(G,p) #Calculando o sigma\n",
      "print(G)"
     ],
     "language": "python",
     "metadata": {},
     "outputs": [
      {
       "output_type": "stream",
       "stream": "stdout",
       "text": [
        "[[  5.26315789  -1.          24.003     ]\n",
        " [  5.26315789  -1.          23.966     ]\n",
        " [  5.26315789  -1.          25.258     ]\n",
        " ..., \n",
        " [  5.26315789  -1.          22.954     ]\n",
        " [  5.26315789  -1.          23.301     ]\n",
        " [  5.26315789  -1.          23.206     ]]\n"
       ]
      }
     ],
     "prompt_number": 4
    },
    {
     "cell_type": "code",
     "collapsed": false,
     "input": [
      "#Calculando atrav\u00e9s da Norma L2 (Norma Euclidiana):\n",
      "\n",
      "b=np.linalg.inv(np.dot(G.T,G)) \n",
      "c=np.dot(b,G.T)\n",
      "pL2=np.dot(c,sobs)\n",
      "\n",
      "print(pL2)"
     ],
     "language": "python",
     "metadata": {},
     "outputs": [
      {
       "output_type": "stream",
       "stream": "stdout",
       "text": [
        "[-0.06431221  0.6665243   0.05587742]\n"
       ]
      }
     ],
     "prompt_number": 6
    },
    {
     "cell_type": "code",
     "collapsed": false,
     "input": [
      "#Calculando o sigma para o par\u00e2metros encontrados pela Norma L2:\n",
      "\n",
      "scL2=np.dot(G,pL2)\n",
      "print(scL2)\n",
      "\n",
      "#Calculando a Norma L2:\n",
      "\n",
      "rL2=scL2-sobs\n",
      "norma_2=np.linalg.norm(rL2,2)\n",
      "print(norma_2)\n"
     ],
     "language": "python",
     "metadata": {},
     "outputs": [
      {
       "output_type": "stream",
       "stream": "stdout",
       "text": [
        "[ 0.33621605  0.33414859  0.40634221 ...,  0.27760064  0.2969901\n",
        "  0.29168175]\n",
        "43.4234470736\n"
       ]
      }
     ],
     "prompt_number": 16
    },
    {
     "cell_type": "code",
     "collapsed": false,
     "input": [
      "#Plotando o sigma calculado e o sigma observado:\n",
      "\n",
      "plt.plot(m,scL2,'.k',m,sobs,'.r')\n",
      "plt.legend(('Norma L2', 'sobs'),'lower right', fancybox=True)\n",
      "plt.ylim(0,0.20)\n",
      "plt.xlabel('x')\n",
      "plt.ylabel('y')"
     ],
     "language": "python",
     "metadata": {},
     "outputs": [
      {
       "output_type": "pyout",
       "prompt_number": 23,
       "text": [
        "<matplotlib.text.Text at 0x6b4bdd0>"
       ]
      },
      {
       "output_type": "display_data",
       "png": "[encoded data removed]"
      }
     ],
     "prompt_number": 23
    },
    {
     "cell_type": "code",
     "collapsed": false,
     "input": [
      "#Calculando a Norma L1:\n",
      "#Calcula-se o res\u00edduo e estipula-se uma toler\u00e2ncia para o res\u00edduo(tolrs) e outra para o ajuste(tolx).\n",
      "#Para assim fazer um calculo interativo do peso. (M\u00ednimos reponderados)\n",
      "\n",
      "tolrs=0.0005\n",
      "tolx=0.0005\n",
      "rs=sc-sobs\n",
      "norma1=np.linalg.norm(rs)\n",
      "\n",
      "for i in range(15):\n",
      "    \n",
      "    w=1./tolrs*np.ones_like(rs)\n",
      "    w[np.abs(rs)>=tolrs]=np.abs(1./rs[np.abs(rs)>=tolrs])\n",
      "    W=np.diag(w)\n",
      "    pl1a=np.dot(W,G)\n",
      "    pl1b=np.linalg.inv(np.dot(G.T,pl1a))\n",
      "    pl1c=np.dot(pl1b,G.T)\n",
      "    pl1d=np.dot(pl1c,W)\n",
      "    pl1=np.dot(pl1d,sobs)\n",
      "    scL1=np.dot(G,pl1)\n",
      "    rs=scL1-sobs\n",
      "    if abs(np.linalg.norm(rs,1)-norma1)/norma1 < tolx:\n",
      "        break\n",
      "    norm1=np.linalg.norm(rs,1)"
     ],
     "language": "python",
     "metadata": {},
     "outputs": [],
     "prompt_number": 18
    },
    {
     "cell_type": "code",
     "collapsed": false,
     "input": [
      "#Fazendo o gr\u00e1fico para a normas L1:\n",
      "plt.plot(m,scL1,'.k',m,sobs,'.r')\n",
      "plt.legend(('Norma L1', 'sobs'),'lower right', fancybox=True)\n",
      "plt.ylim(0,0.20)\n",
      "plt.xlabel('x')\n",
      "plt.ylabel('y')"
     ],
     "language": "python",
     "metadata": {},
     "outputs": [
      {
       "output_type": "pyout",
       "prompt_number": 24,
       "text": [
        "<matplotlib.text.Text at 0x6d1ef70>"
       ]
      },
      {
       "output_type": "display_data",
       "png": "[encoded data removed]"
      }
     ],
     "prompt_number": 24
    },
    {
     "cell_type": "code",
     "collapsed": false,
     "input": [],
     "language": "python",
     "metadata": {},
     "outputs": [],
     "prompt_number": 24
    },
    {
     "cell_type": "code",
     "collapsed": false,
     "input": [
      "\n",
      "\n"
     ],
     "language": "python",
     "metadata": {},
     "outputs": [],
     "prompt_number": 15
    },
    {
     "cell_type": "code",
     "collapsed": false,
     "input": [],
     "language": "python",
     "metadata": {},
     "outputs": [],
     "prompt_number": 10
    },
    {
     "cell_type": "code",
     "collapsed": false,
     "input": [],
     "language": "python",
     "metadata": {},
     "outputs": [],
     "prompt_number": 10
    },
    {
     "cell_type": "code",
     "collapsed": false,
     "input": [],
     "language": "python",
     "metadata": {},
     "outputs": [],
     "prompt_number": 10
    },
    {
     "cell_type": "code",
     "collapsed": false,
     "input": [],
     "language": "python",
     "metadata": {},
     "outputs": []
    }
   ],
   "metadata": {}
  }
 ]
}