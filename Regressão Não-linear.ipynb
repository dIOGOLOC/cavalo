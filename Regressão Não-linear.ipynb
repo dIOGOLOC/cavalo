{
 "metadata": {
  "name": "Regress\u00e3o N\u00e3o-linear"
 },
 "nbformat": 3,
 "nbformat_minor": 0,
 "worksheets": [
  {
   "cells": [
    {
     "cell_type": "code",
     "collapsed": false,
     "input": [
      "%pylab inline"
     ],
     "language": "python",
     "metadata": {},
     "outputs": [
      {
       "output_type": "stream",
       "stream": "stdout",
       "text": [
        "\n",
        "Welcome to pylab, a matplotlib-based Python environment [backend: module://IPython.zmq.pylab.backend_inline].\n",
        "For more information, type 'help(pylab)'.\n"
       ]
      }
     ],
     "prompt_number": 23
    },
    {
     "cell_type": "code",
     "collapsed": false,
     "input": [
      "from __future__ import print_function\n",
      "import numpy as np\n",
      "import matplotlib.pyplot as plt"
     ],
     "language": "python",
     "metadata": {},
     "outputs": [],
<<<<<<< HEAD
     "prompt_number": 8
=======
     "prompt_number": 35
>>>>>>> b464789026b6ba0ec76dd9513461ea5cc7c9a24a
    },
    {
     "cell_type": "code",
     "collapsed": false,
     "input": [
      "#Importando a tabela de dados, erro(d) e magnitude(m):\n",
      "\n",
      "tabela=np.loadtxt('C:\\Users\\dIOGO\\Documents\\dados_helio\\TriAnd_SDSS5.dat',delimiter=',',unpack=True)\n",
      "\n",
      "#Desclarando as vari\u00e1veis:\n",
      "m=tabela[4]\n",
      "d=tabela[8]\n",
      "bons = d > 0.01\n",
      "m = m[bons]\n",
      "d = d[bons]\n",
      "p=[0.02,20,0.8]\n",
      "A,B,C=p\n",
      "N=len(d)\n",
      "max_int=100\n",
      "max_passos=50\n",
      "G=np.empty([N,3])\n",
      "tol=10**-8\n",
      "lamb=10**1\n",
      "dlamb=2\n",
      "diag=range(3)\n",
      "d0=A+np.exp(C*m-B)\n",
      "fi=norm(d0-d)**2\n",
      "print(fi)"
     ],
     "language": "python",
     "metadata": {},
     "outputs": [
      {
       "output_type": "stream",
       "stream": "stdout",
       "text": [
        "3899.82850429\n"
       ]
      }
     ],
<<<<<<< HEAD
     "prompt_number": 3
=======
     "prompt_number": 52
>>>>>>> b464789026b6ba0ec76dd9513461ea5cc7c9a24a
    },
    {
     "cell_type": "code",
     "collapsed": false,
     "input": [
      "#Fazendo o processo Interativo:\n",
      "\n",
      "for i in range(max_int):\n",
      "    fi0=fi\n",
      "    A,B,C=p\n",
      "    G[:,0]=np.ones(N)\n",
      "    G[:,1]=-(C*m-B)*np.exp(C*m-B)\n",
      "    G[:,2]=(C*m-B)*m*np.exp(C*m-B)\n",
      "    hessian=np.dot(G.T,G)\n",
      "    gradient=np.dot(G.T,(d-d0))\n",
      "    precond=np.abs(hessian[diag,diag])\n",
      "    precond[precond < 10**-10] = 10**-10\n",
      "    hessian=(hessian.T/precond).T\n",
      "    gradient=gradient/precond\n",
      "    stagnation=True\n",
      "    print(hessian,p)\n",
      "    for step in xrange(max_passos):\n",
      "            hessian[diag,diag] += lamb\n",
      "            newp = p + np.linalg.solve(hessian, gradient)\n",
      "            A,B,C=newp\n",
      "            newd0=A+np.exp(C*m-B)\n",
      "            newfi=norm(newd0-d)**2\n",
      "            if newfi >= fi0:\n",
      "                hessian[diag,diag] -= lamb\n",
      "                if lamb < 10**15:\n",
      "                    lamb *= dlamb\n",
      "            else:\n",
      "                if lamb > 10**-15:\n",
      "                    lamb /= float(dlamb)\n",
      "                stagnation = False\n",
      "                p=newp\n",
      "                fi=newfi\n",
      "                d0=newd0\n",
      "                break\n",
      "    if stagnation:\n",
      "        print('stag')\n",
      "        break\n",
      "    if abs(fi-fi0)/float(fi0) < tol:\n",
      "        print(abs(fi-fi0)/float(fi0))\n",
      "        break\n",
      "print(i)"
     ],
     "language": "python",
     "metadata": {},
     "outputs": [
      {
       "output_type": "stream",
       "stream": "stdout",
       "text": [
<<<<<<< HEAD
        "[[  1.00000000e+00  -7.14925285e+06   1.62298602e+08]\n",
        " [ -4.40235668e-08   1.00000000e+00  -2.29588454e+01]\n",
        " [  1.89567147e-09  -4.35485573e-02   1.00000000e+00]] [0.02, 20, 1.5]\n",
        "[[  1.00000000e+00  -7.06395083e+06   1.60361787e+08]\n",
        " [ -4.45591509e-08   1.00000000e+00  -2.29588127e+01]\n",
        " [  1.91873537e-09  -4.35486181e-02   1.00000000e+00]]"
       ]
      },
      {
       "output_type": "stream",
       "stream": "stdout",
       "text": [
        " [ -3.91366014e+04   2.00056344e+01   1.49975468e+00]\n",
        "[[  1.00000000e+00  -6.92521175e+06   1.57211673e+08]\n",
        " [ -4.54585336e-08   1.00000000e+00  -2.29587585e+01]\n",
        " [  1.95746559e-09  -4.35487186e-02   1.00000000e+00]] [ -9.49708090e+04   2.00149423e+01   1.49934921e+00]\n",
        "[[  1.00000000e+00  -6.72336184e+06   1.52628628e+08]\n",
        " [ -4.68335663e-08   1.00000000e+00  -2.29586777e+01]\n",
        " [  2.01667887e-09  -4.35488684e-02   1.00000000e+00]] [ -1.54835104e+05   2.00288143e+01   1.49874431e+00]\n",
        "[[  1.00000000e+00  -6.46060844e+06   1.46662794e+08]\n",
        " [ -4.87526833e-08   1.00000000e+00  -2.29585690e+01]\n",
        " [  2.09932235e-09  -4.35490703e-02   1.00000000e+00]] [ -1.89172738e+05   2.00474928e+01   1.49792861e+00]\n",
        "[[  1.00000000e+00  -6.14660088e+06   1.39533286e+08]\n",
        " [ -5.12621639e-08   1.00000000e+00  -2.29584331e+01]\n",
        " [  2.20738913e-09  -4.35493223e-02   1.00000000e+00]] [ -1.73866674e+05   2.00708178e+01   1.49690867e+00]\n",
        "[[  1.00000000e+00  -5.79561458e+06   1.31564259e+08]\n",
        " [ -5.43901983e-08   1.00000000e+00  -2.29582733e+01]\n",
        " [  2.34209340e-09  -4.35496190e-02   1.00000000e+00]] [ -1.22495596e+05   2.00983386e+01   1.49570539e+00]\n",
        "[[  1.00000000e+00  -5.42753101e+06   1.23207142e+08]\n",
        " [ -5.81067596e-08   1.00000000e+00  -2.29580956e+01]\n",
        " [  2.50214234e-09  -4.35499486e-02   1.00000000e+00]] [ -7.30138465e+04   2.01290795e+01   1.49436455e+00]\n",
        "[[  1.00000000e+00  -5.06119254e+06   1.14889753e+08]\n",
        " [ -6.23442912e-08   1.00000000e+00  -2.29579078e+01]\n",
        " [  2.68462694e-09  -4.35502971e-02   1.00000000e+00]] [ -4.37203868e+04   2.01618921e+01   1.49294069e+00]\n",
        "[[  1.00000000e+00  -4.70811023e+06   1.06873446e+08]\n",
        " [ -6.70545784e-08   1.00000000e+00  -2.29577155e+01]\n",
        " [  2.88747107e-09  -4.35506540e-02   1.00000000e+00]] [ -2.95926729e+04   2.01959979e+01   1.49147485e+00]\n",
        "[[  1.00000000e+00  -4.37339457e+06   9.92742496e+07]\n",
        " [ -7.22240539e-08   1.00000000e+00  -2.29575228e+01]\n",
        " [  3.11009055e-09  -4.35510114e-02   1.00000000e+00]] [ -2.27019000e+04   2.02310870e+01   1.48999460e+00]\n",
        "[[  1.00000000e+00  -4.05869748e+06   9.21296708e+07]\n",
        " [ -7.78635411e-08   1.00000000e+00  -2.29573342e+01]\n",
        " [  3.35295147e-09  -4.35513615e-02   1.00000000e+00]] [ -1.89637198e+04   2.02672485e+01   1.48852449e+00]\n",
        "[[  1.00000000e+00  -3.76404886e+06   8.54404031e+07]\n",
        " [ -8.39987825e-08   1.00000000e+00  -2.29571560e+01]\n",
        " [  3.61716214e-09  -4.35516923e-02   1.00000000e+00]] [ -1.66363066e+04   2.03050182e+01   1.48709805e+00]\n",
        "[[  1.00000000e+00  -3.48873717e+06   7.91903274e+07]\n",
        " [ -9.06651717e-08   1.00000000e+00  -2.29569998e+01]\n",
        " [  3.90424596e-09  -4.35519821e-02   1.00000000e+00]] [ -1.49356940e+04   2.03456249e+01   1.48577361e+00]\n",
        "[[  1.00000000e+00  -3.23170890e+06   7.33555974e+07]\n",
        " [ -9.79047637e-08   1.00000000e+00  -2.29568876e+01]\n",
        " [  4.21601207e-09  -4.35521906e-02   1.00000000e+00]] [ -1.34671067e+04   2.03915067e+01   1.48465925e+00]\n",
        "[[  1.00000000e+00  -2.99173990e+06   6.79085459e+07]\n",
        " [ -1.05764237e-07   1.00000000e+00  -2.29568587e+01]\n",
        " [  4.55446659e-09  -4.35522446e-02   1.00000000e+00]] [ -1.19918053e+04   2.04471393e+01   1.48395000e+00]\n",
        "[[  1.00000000e+00  -2.76751465e+06   6.28194929e+07]\n",
        " [ -1.14293204e-07   1.00000000e+00  -2.29569780e+01]\n",
        " [  4.92173842e-09  -4.35520238e-02   1.00000000e+00]] [ -1.03389879e+04   2.05199214e+01   1.48396690e+00]\n",
        "[[  1.00000000e+00  -2.55771763e+06   5.80587795e+07]\n",
        " [ -1.23543299e-07   1.00000000e+00  -2.29573342e+01]\n",
        " [  5.32003884e-09  -4.35513638e-02   1.00000000e+00]] [ -8.42084633e+03   2.06200180e+01   1.48515049e+00]\n",
        "[[  1.00000000e+00  -2.36121165e+06   5.36006942e+07]\n",
        " [ -1.33569792e-07   1.00000000e+00  -2.29580122e+01]\n",
        " [  5.75173270e-09  -4.35501072e-02   1.00000000e+00]] [ -6.32579701e+03   2.07573191e+01   1.48792923e+00]\n",
        "[[  1.00000000e+00  -2.17723221e+06   4.94277422e+07]\n",
        " [ -1.44436665e-07   1.00000000e+00  -2.29590444e+01]\n",
        " [  6.21956217e-09  -4.35481939e-02   1.00000000e+00]] [ -4.35008467e+03   2.09359520e+01   1.49248177e+00]\n",
        "[[  1.00000000e+00  -2.00537235e+06   4.55303187e+07]\n",
        " [ -1.56221420e-07   1.00000000e+00  -2.29603888e+01]\n",
        " [  6.72685869e-09  -4.35457019e-02   1.00000000e+00]] [ -2.80591630e+03   2.11516661e+01   1.49862366e+00]\n",
        "[[  1.00000000e+00  -1.84533815e+06   4.19013423e+07]\n",
        " [ -1.69015154e-07   1.00000000e+00  -2.29619609e+01]\n",
        " [  7.27754465e-09  -4.35427877e-02   1.00000000e+00]] [ -1.78991524e+03   2.13953181e+01   1.50595846e+00]\n",
        "[[  1.00000000e+00  -1.69673934e+06   3.85316603e+07]\n",
        " [ -1.82919734e-07   1.00000000e+00  -2.29636795e+01]\n",
        " [  7.87600769e-09  -4.35396019e-02   1.00000000e+00]] [-1196.94526112    21.65797223     1.51409865]\n",
        "[[  1.00000000e+00  -1.55904729e+06   3.54091206e+07]\n",
        " [ -1.98046151e-07   1.00000000e+00  -2.29654874e+01]\n",
        " [  8.52702659e-09  -4.35362507e-02   1.00000000e+00]] [-870.42122174   21.93326532    1.52276822]\n",
        "[[  1.00000000e+00  -1.43164405e+06   3.25196456e+07]\n",
        " [ -2.14514867e-07   1.00000000e+00  -2.29673501e+01]\n",
        " [  9.23578549e-09  -4.35327979e-02   1.00000000e+00]] [-690.65400383   22.21736743    1.5318009 ]\n",
        "[[  1.00000000e+00  -1.31387876e+06   2.98484667e+07]\n",
        " [ -2.32457216e-07   1.00000000e+00  -2.29692486e+01]\n",
        " [  1.00079344e-08  -4.35292786e-02   1.00000000e+00]] [-586.40664441   22.50818854    1.54110581]\n",
        "[[  1.00000000e+00  -1.20510464e+06   2.73809352e+07]\n",
        " [ -2.52017128e-07   1.00000000e+00  -2.29711731e+01]\n",
        " [  1.08496638e-08  -4.35257113e-02   1.00000000e+00]] [-520.03585104   22.80466749    1.55063665]\n",
        "[[  1.00000000e+00  -1.10469838e+06   2.51029450e+07]\n",
        " [ -2.73352935e-07   1.00000000e+00  -2.29731185e+01]\n",
        " [  1.17677828e-08  -4.35221052e-02   1.00000000e+00]] [-472.77589793   23.10631064    1.56037169]\n",
        "[[  1.00000000e+00  -1.01206872e+06   2.30011200e+07]\n",
        " [ -2.96639250e-07   1.00000000e+00  -2.29750824e+01]\n",
        " [  1.27697996e-08  -4.35184648e-02   1.00000000e+00]] [-435.52147624   23.41292793    1.57030233]\n",
        "[[  1.00000000e+00  -9.26659358e+05   2.10628760e+07]\n",
        " [ -3.22068962e-07   1.00000000e+00  -2.29770638e+01]\n",
        " [  1.38640083e-08  -4.35147921e-02   1.00000000e+00]]"
       ]
      },
      {
       "output_type": "stream",
       "stream": "stdout",
       "text": [
        " [-403.89412543   23.7244902     1.58042696]\n",
        "[[  1.00000000e+00  -8.47949115e+05   1.92764236e+07]\n",
        " [ -3.49855416e-07   1.00000000e+00  -2.29790623e+01]\n",
        " [  1.50595817e-08  -4.35110877e-02   1.00000000e+00]] [-375.77843119   24.04105437    1.59074766]\n",
        "[[  1.00000000e+00  -7.75450894e+05   1.76307436e+07]\n",
        " [ -3.80234810e-07   1.00000000e+00  -2.29810778e+01]\n",
        " [  1.63666750e-08  -4.35073517e-02   1.00000000e+00]] [-350.13166928   24.36272474    1.60126859]\n",
        "[[  1.00000000e+00  -7.08710056e+05   1.61155499e+07]\n",
        " [ -4.13468876e-07   1.00000000e+00  -2.29831105e+01]\n",
        " [  1.77965405e-08  -4.35035839e-02   1.00000000e+00]] [-326.41798889   24.68963318    1.61199504]\n",
        "[[  1.00000000e+00  -6.47302630e+05   1.47212492e+07]\n",
        " [ -4.49847879e-07   1.00000000e+00  -2.29851608e+01]\n",
        " [  1.93616570e-08  -4.34997836e-02   1.00000000e+00]] [-304.34161677   25.02192922    1.6229331 ]\n",
        "[[  1.00000000e+00  -5.90833499e+05   1.34389002e+07]\n",
        " [ -4.89693987e-07   1.00000000e+00  -2.29872288e+01]\n",
        " [  2.10758741e-08  -4.34959504e-02   1.00000000e+00]] [-283.72153316   25.35977504    1.63408937]\n",
        "[[  1.00000000e+00  -5.38934628e+05   1.22601733e+07]\n",
        " [ -5.33365067e-07   1.00000000e+00  -2.29893151e+01]\n",
        " [  2.29545756e-08  -4.34920835e-02   1.00000000e+00]] [-264.43267562   25.70334321    1.64547088]\n",
        "[[  1.00000000e+00  -4.91263360e+05   1.11773122e+07]\n",
        " [ -5.81258966e-07   1.00000000e+00  -2.29914199e+01]\n",
        " [  2.50148632e-08  -4.34881822e-02   1.00000000e+00]] [-246.3783295    26.05281575    1.65708509]\n",
        "[[  1.00000000e+00  -4.47500815e+05   1.01830979e+07]\n",
        " [ -6.33818337e-07   1.00000000e+00  -2.29935436e+01]\n",
        " [  2.72757640e-08  -4.34842458e-02   1.00000000e+00]] [-229.47711754   26.40838381    1.66893979]\n",
        "[[  1.00000000e+00  -4.07350360e+05   9.27081449e+06]\n",
        " [ -6.91536111e-07   1.00000000e+00  -2.29956868e+01]\n",
        " [  2.97584654e-08  -4.34802734e-02   1.00000000e+00]] [-213.65681692   26.77024787    1.68104321]\n",
        "[[  1.00000000e+00  -3.70536180e+05   8.43421613e+06]\n",
        " [ -7.54961669e-07   1.00000000e+00  -2.29978498e+01]\n",
        " [  3.24865802e-08  -4.34762643e-02   1.00000000e+00]] [-198.85137102   27.13861806    1.69340394]\n",
        "[[  1.00000000e+00  -3.36801926e+05   7.66749724e+06]\n",
        " [ -8.24707849e-07   1.00000000e+00  -2.30000331e+01]\n",
        " [  3.54864475e-08  -4.34722176e-02   1.00000000e+00]] [-184.99939773   27.51371465    1.70603102]\n",
        "[[  1.00000000e+00  -3.05909445e+05   6.96526360e+06]\n",
        " [ -9.01458888e-07   1.00000000e+00  -2.30022372e+01]\n",
        " [  3.87874742e-08  -4.34681324e-02   1.00000000e+00]] [-172.04340013   27.89576861    1.71893391]\n",
        "[[  1.00000000e+00  -2.77637592e+05   6.32250544e+06]\n",
        " [ -9.85979437e-07   1.00000000e+00  -2.30044625e+01]\n",
        " [  4.24225217e-08  -4.34640078e-02   1.00000000e+00]] [-159.9293102    28.28502228    1.73212258]\n",
        "[[  1.00000000e+00  -2.51781101e+05   5.73457220e+06]\n",
        " [ -1.07912482e-06   1.00000000e+00  -2.30067097e+01]\n",
        " [  4.64283463e-08  -4.34598428e-02   1.00000000e+00]] [-148.60619114   28.68173004    1.74560746]\n",
        "[[  1.00000000e+00  -2.28149541e+05   5.19714870e+06]\n",
        " [ -1.18185268e-06   1.00000000e+00  -2.30089792e+01]\n",
        " [  5.08461004e-08  -4.34556364e-02   1.00000000e+00]] [-138.02601861   29.08615914    1.75939954]\n",
        "[[  1.00000000e+00  -2.06566320e+05   4.70623290e+06]\n",
        " [ -1.29523630e-06   1.00000000e+00  -2.30112717e+01]\n",
        " [  5.57219031e-08  -4.34513876e-02   1.00000000e+00]] [-128.14350232   29.49859045    1.77351038]\n",
        "[[  1.00000000e+00  -1.86867763e+05   4.25811490e+06]\n",
        " [ -1.42047975e-06   1.00000000e+00  -2.30135876e+01]\n",
        " [  6.11074916e-08  -4.34470953e-02   1.00000000e+00]] [-118.91592985   29.91931947    1.78795214]\n",
        "[[  1.00000000e+00  -1.68902239e+05   3.84935733e+06]\n",
        " [ -1.55893522e-06   1.00000000e+00  -2.30159277e+01]\n",
        " [  6.70609647e-08  -4.34427582e-02   1.00000000e+00]] [-110.30302531   30.34865722    1.80273763]\n",
        "[[  1.00000000e+00  -1.52529347e+05   3.47677690e+06]\n",
        " [ -1.71212282e-06   1.00000000e+00  -2.30182926e+01]\n",
        " [  7.36476337e-08  -4.34383754e-02   1.00000000e+00]] [-102.26681714   30.78693135    1.81788036]\n",
        "[[  1.00000000e+00  -1.37619148e+05   3.13742714e+06]\n",
        " [ -1.88175329e-06   1.00000000e+00  -2.30206828e+01]\n",
        " [  8.09409969e-08  -4.34339454e-02   1.00000000e+00]] [-94.77151451  31.23448731   1.83339458]\n",
        "[[  1.00000000e+00  -1.24051449e+05   2.82858216e+06]\n",
        " [ -2.06975400e-06   1.00000000e+00  -2.30230992e+01]\n",
        " [  8.90238564e-08  -4.34294670e-02   1.00000000e+00]] [-87.78339016  31.69168955   1.84929532]\n",
        "[[  1.00000000e+00  -1.11715132e+05   2.54772150e+06]\n",
        " [ -2.27829888e-06   1.00000000e+00  -2.30255425e+01]\n",
        " [  9.79896012e-08  -4.34249389e-02   1.00000000e+00]] [-81.27066953  32.15892292   1.8655985 ]\n",
        "[[  1.00000000e+00  -1.00507525e+05   2.29251591e+06]\n",
        " [ -2.50984274e-06   1.00000000e+00  -2.30280134e+01]\n",
        " [  1.07943683e-07  -4.34203596e-02   1.00000000e+00]] [-75.20342537  32.63659417   1.88232092]\n",
        "[[  1.00000000e+00  -9.03338108e+04   2.06081402e+06]\n",
        " [ -2.76716089e-06   1.00000000e+00  -2.30305127e+01]\n",
        " [  1.19005315e-07  -4.34157277e-02   1.00000000e+00]] [-69.55347793  33.12513351   1.89948037]\n",
        "[[  1.00000000e+00  -8.11064759e+04   1.85062990e+06]\n",
        " [ -3.05339480e-06   1.00000000e+00  -2.30330413e+01]\n",
        " [  1.31309432e-07  -4.34110416e-02   1.00000000e+00]] [-64.29430019  33.62499642   1.91709572]\n",
        "[[  1.00000000e+00  -7.27447961e+04   1.66013136e+06]\n",
        " [ -3.37210482e-06   1.00000000e+00  -2.30356001e+01]\n",
        " [  1.45008954e-07  -4.34062996e-02   1.00000000e+00]] [-59.4009276   34.13666558   1.93518694]\n",
        "[[  1.00000000e+00  -6.51743532e+04   1.48762908e+06]\n",
        " [ -3.72733127e-06   1.00000000e+00  -2.30381900e+01]\n",
        " [  1.60277407e-07  -4.34015001e-02   1.00000000e+00]] [-54.84987286  34.66065294   1.95377526]\n",
        "[[  1.00000000e+00  -5.83265835e+04   1.33156641e+06]\n",
        " [ -4.12366511e-06   1.00000000e+00  -2.30408119e+01]\n",
        " [  1.77311955e-07  -4.33966412e-02   1.00000000e+00]]"
       ]
      },
      {
       "output_type": "stream",
       "stream": "stdout",
       "text": [
        " [-50.61904457  35.19750207   1.97288324]\n",
        "[[  1.00000000e+00  -5.21383571e+04   1.19050981e+06]\n",
        " [ -4.56633010e-06   1.00000000e+00  -2.30434670e+01]\n",
        " [  1.96336930e-07  -4.33917210e-02   1.00000000e+00]] [-46.68767043  35.74779068   1.99253483]\n",
        "[[  1.00000000e+00  -4.65515837e+04   1.06313998e+06]\n",
        " [ -5.06127828e-06   1.00000000e+00  -2.30461562e+01]\n",
        " [  2.17607921e-07  -4.33867376e-02   1.00000000e+00]] [-43.03622413  36.31213342   2.01275557]\n",
        "[[  1.00000000e+00  -4.15128454e+04   9.48243507e+05]\n",
        " [ -5.61530117e-06   1.00000000e+00  -2.30488807e+01]\n",
        " [  2.41416553e-07  -4.33816888e-02   1.00000000e+00]] [-39.64635606  36.89118496   2.03357268]\n",
        "[[  1.00000000e+00  -3.69730531e+04   8.44705154e+05]\n",
        " [ -6.23615962e-06   1.00000000e+00  -2.30516417e+01]\n",
        " [  2.68096056e-07  -4.33765725e-02   1.00000000e+00]] [-36.50082766  37.48564334   2.05501517]\n",
        "[[  1.00000000e+00  -3.28871270e+04   7.51500574e+05]\n",
        " [ -6.93273559e-06   1.00000000e+00  -2.30544405e+01]\n",
        " [  2.98027771e-07  -4.33713862e-02   1.00000000e+00]] [-33.58344915  38.09625377   2.07711406]\n",
        "[[  1.00000000e+00  -2.92136978e+04   6.67689577e+05]\n",
        " [ -7.71520988e-06   1.00000000e+00  -2.30572784e+01]\n",
        " [  3.31648783e-07  -4.33661276e-02   1.00000000e+00]] [-30.87902038  38.72381273   2.09990253]\n",
        "[[  1.00000000e+00  -2.59148288e+04   5.92409828e+05]\n",
        " [ -8.59527090e-06   1.00000000e+00  -2.30601569e+01]\n",
        " [  3.69460868e-07  -4.33607940e-02   1.00000000e+00]] [-28.37327502  39.3691726    2.12341608]\n",
        "[[  1.00000000e+00  -2.29557565e+04   5.24870985e+05]\n",
        " [ -9.58636004e-06   1.00000000e+00  -2.30630774e+01]\n",
        " [  4.12041024e-07  -4.33553826e-02   1.00000000e+00]] [-26.05282739  40.03324673   2.14769281]\n",
        "[[  1.00000000e+00  -2.03046492e+04   4.64349231e+05]\n",
        " [ -1.07039610e-05   1.00000000e+00  -2.30660415e+01]\n",
        " [  4.60053876e-07  -4.33498905e-02   1.00000000e+00]] [-23.9051223   40.71701517   2.17277361]\n",
        "[[  1.00000000e+00  -1.79323826e+04   4.10182190e+05]\n",
        " [ -1.19659415e-05   1.00000000e+00  -2.30690510e+01]\n",
        " [  5.14266330e-07  -4.33443146e-02   1.00000000e+00]] [-21.9183875   41.42153098   2.19870245]\n",
        "[[  1.00000000e+00  -1.58123307e+04   3.61764190e+05]\n",
        " [ -1.33929578e-05   1.00000000e+00  -2.30721075e+01]\n",
        " [  5.75564917e-07  -4.33386516e-02   1.00000000e+00]] [-20.08158849  42.14792732   2.22552667]\n",
        "[[  1.00000000e+00  -1.39201716e+04   3.18541867e+05]\n",
        " [ -1.50089344e-05   1.00000000e+00  -2.30752130e+01]\n",
        " [  6.44976378e-07  -4.33328980e-02   1.00000000e+00]] [-18.38438607  42.89742542   2.25329733]\n",
        "[[  1.00000000e+00  -1.22337066e+04   2.80010069e+05]\n",
        " [ -1.68416354e-05   1.00000000e+00  -2.30783696e+01]\n",
        " [  7.23692129e-07  -4.33270501e-02   1.00000000e+00]] [-16.81709579  43.67134347   2.28206958]\n",
        "[[  1.00000000e+00  -1.07326926e+04   2.45708057e+05]\n",
        " [ -1.89233446e-05   1.00000000e+00  -2.30815793e+01]\n",
        " [  8.13097449e-07  -4.33211039e-02   1.00000000e+00]] [-15.37064984  44.47110671   2.31190309]\n",
        "[[  1.00000000e+00  -9.39868660e+03   2.15215975e+05]\n",
        " [ -2.12916792e-05   1.00000000e+00  -2.30848445e+01]\n",
        " [  9.14806346e-07  -4.33150551e-02   1.00000000e+00]] [-14.03656088  45.29825873   2.34286251]\n",
        "[[  1.00000000e+00  -8.21490066e+03   1.88151572e+05]\n",
        " [ -2.39905649e-05   1.00000000e+00  -2.30881677e+01]\n",
        " [  1.03070335e-06  -4.33088992e-02   1.00000000e+00]] [-12.8068879   46.15447429   2.37501805]\n",
        "[[  1.00000000e+00  -7.16606828e+03   1.64167167e+05]\n",
        " [ -2.70714071e-05   1.00000000e+00  -2.30915515e+01]\n",
        " [  1.16299371e-06  -4.33026315e-02   1.00000000e+00]] [-11.67420385  47.04157394   2.40844606]\n",
        "[[  1.00000000e+00  -6.23831998e+03   1.42946828e+05]\n",
        " [ -3.05945033e-05   1.00000000e+00  -2.30949986e+01]\n",
        " [  1.31426394e-06  -4.32962466e-02   1.00000000e+00]] [-10.63156509  47.96154051   2.44322977]\n",
        "[[  1.00000000e+00  -5.41906827e+03   1.24203768e+05]\n",
        " [ -3.46307487e-05   1.00000000e+00  -2.30985122e+01]\n",
        " [  1.48755486e-06  -4.32897390e-02   1.00000000e+00]] [ -9.67248256  48.91653807   2.47946006]\n",
        "[[  1.00000000e+00  -4.69690114e+03   1.07677923e+05]\n",
        " [ -3.92637052e-05   1.00000000e+00  -2.31020955e+01]\n",
        " [  1.68645030e-06  -4.32831029e-02   1.00000000e+00]] [ -8.79089442  49.90893354   2.5172364 ]\n",
        "[[  1.00000000e+00  -4.06148345e+03   9.31337196e+04]\n",
        " [ -4.45921157e-05   1.00000000e+00  -2.31057518e+01]\n",
        " [  1.91518475e-06  -4.32763317e-02   1.00000000e+00]] [ -7.98114038  50.9413216    2.5566679 ]\n",
        "[[  1.00000000e+00  -3.50346586e+03   8.03580051e+04]\n",
        " [ -5.07329721e-05   1.00000000e+00  -2.31094851e+01]\n",
        " [  2.17877485e-06  -4.32694186e-02   1.00000000e+00]] [ -7.23793724  52.01655327   2.59787451]\n",
        "[[  1.00000000e+00  -3.01440057e+03   6.91581382e+04]\n",
        " [ -5.78252704e-05   1.00000000e+00  -2.31132993e+01]\n",
        " [  2.48318015e-06  -4.32623563e-02   1.00000000e+00]] [ -6.55635601  53.13776912   2.64098846]\n",
        "[[  1.00000000e+00  -2.58666360e+03   5.93602236e+04]\n",
        " [ -6.60346214e-05   1.00000000e+00  -2.31171988e+01]\n",
        " [  2.83550063e-06  -4.32551366e-02   1.00000000e+00]] [ -5.93180016  54.3084377    2.68615588]\n",
        "[[  1.00000000e+00  -2.21338304e+03   5.08074828e+04]\n",
        " [ -7.55589345e-05   1.00000000e+00  -2.31211884e+01]\n",
        " [  3.24422004e-06  -4.32477510e-02   1.00000000e+00]] [ -5.35998519  55.53240037   2.73353869]\n",
        "[[  1.00000000e+00  -1.88837290e+03   4.33587520e+04]\n",
        " [ -8.66354486e-05   1.00000000e+00  -2.31252730e+01]\n",
        " [  3.71950690e-06  -4.32401901e-02   1.00000000e+00]] [ -4.83691928  56.81392382   2.78331687]\n",
        "[[  1.00000000e+00  -1.60607215e+03   3.68870980e+04]\n",
        " [ -9.95494624e-05   1.00000000e+00  -2.31294582e+01]\n",
        " [  4.27358833e-06  -4.32324438e-02   1.00000000e+00]] [ -4.35888512  58.15776164   2.83569103]"
       ]
      },
      {
       "output_type": "stream",
       "stream": "stdout",
       "text": [
        "\n",
        "[[  1.00000000e+00  -1.36148858e+03   3.12785429e+04]\n",
        " [ -1.14645220e-04   1.00000000e+00  -2.31337500e+01]\n",
        " [  4.92121585e-06  -4.32245012e-02   1.00000000e+00]] [ -3.92242272  59.56922721   2.89088557]\n",
        "[[  1.00000000e+00  -1.15014720e+03   2.64308908e+04]\n",
        " [ -1.32339535e-04   1.00000000e+00  -2.31381549e+01]\n",
        " [  5.68024859e-06  -4.32163504e-02   1.00000000e+00]] [ -3.52431322  61.05427997   2.94915231]\n",
        "[[  1.00000000e+00  -9.68042744e+02   2.22526495e+04]\n",
        " [ -1.53138921e-04   1.00000000e+00  -2.31426800e+01]\n",
        " [  6.57238619e-06  -4.32079785e-02   1.00000000e+00]] [ -3.16156365  62.61962838   3.01077487]\n",
        "[[  1.00000000e+00  -8.11596095e+02   1.86620390e+04]\n",
        " [ -1.77661216e-04   1.00000000e+00  -2.31473328e+01]\n",
        " [  7.62409411e-06  -4.31993716e-02   1.00000000e+00]] [ -2.83139254  64.27285327   3.07607398]\n",
        "[[  1.00000000e+00  -6.77614250e+02   1.55860819e+04]\n",
        " [ -2.06663012e-04   1.00000000e+00  -2.31521217e+01]\n",
        " [  8.86777691e-06  -4.31905144e-02   1.00000000e+00]] [ -2.53121636  66.02255642   3.14541374]\n",
        "[[  1.00000000e+00  -5.63253649e+02   1.29597693e+04]\n",
        " [ -2.41074599e-04   1.00000000e+00  -2.31570559e+01]\n",
        " [  1.03432730e-05  -4.31813903e-02   1.00000000e+00]] [ -2.2586368   67.87854069   3.21920933]\n",
        "[[  1.00000000e+00  -4.65986558e+02   1.07252957e+04]\n",
        " [ -2.82044699e-04   1.00000000e+00  -2.31621451e+01]\n",
        " [  1.20997676e-05  -4.31719814e-02   1.00000000e+00]] [ -2.01142869  69.85202968   3.29793637]\n",
        "[[  1.00000000e+00  -3.83570309e+02   8.83135961e+03]\n",
        " [ -3.30998013e-04   1.00000000e+00  -2.31674001e+01]\n",
        " [  1.41982537e-05  -4.31622680e-02   1.00000000e+00]] [ -1.78752873  71.95593722   3.38214243]\n",
        "[[  1.00000000e+00  -3.14019175e+02   7.23252340e+03]\n",
        " [ -3.89709605e-04   1.00000000e+00  -2.31728326e+01]\n",
        " [  1.67147119e-05  -4.31522290e-02   1.00000000e+00]] [ -1.5850247   74.20520044   3.47246117]\n",
        "[[  1.00000000e+00  -2.55578680e+02   5.88862825e+03]\n",
        " [ -4.60401530e-04   1.00000000e+00  -2.31784554e+01]\n",
        " [  1.97442416e-05  -4.31418411e-02   1.00000000e+00]] [ -1.40214547  76.61719423   3.5696301 ]\n",
        "[[  1.00000000e+00  -2.06702154e+02   4.76426057e+03]\n",
        " [ -5.45868991e-04   1.00000000e+00  -2.31842820e+01]\n",
        " [  2.34064529e-05  -4.31310795e-02   1.00000000e+00]] [ -1.23725135  79.21225094   3.67451269]\n",
        "[[  1.00000000e+00  -1.66029367e+02   3.82826532e+03]\n",
        " [ -6.49645839e-04   1.00000000e+00  -2.31903275e+01]\n",
        " [  2.78525403e-05  -4.31199170e-02   1.00000000e+00]] [ -1.08882507  82.01431719   3.78812641]\n",
        "[[  1.00000000e+00  -1.32367080e+02   3.05330284e+03]\n",
        " [ -7.76222744e-04   1.00000000e+00  -2.31966077e+01]\n",
        " [  3.32746061e-05  -4.31083248e-02   1.00000000e+00]] [ -0.95546315  85.05179111   3.91167847]\n",
        "[[  1.00000000e+00  -1.04671350e+02   2.41544578e+03]\n",
        " [ -9.31336082e-04   1.00000000e+00  -2.32031399e+01]\n",
        " [  3.99180060e-05  -4.30962718e-02   1.00000000e+00]] [ -0.83586753  88.35859873   4.04661177]\n",
        "[[  1.00000000e+00  -8.20314647e+01   1.89381281e+03]\n",
        " [ -1.12235205e-03   1.00000000e+00  -2.32099420e+01]\n",
        " [  4.80977632e-05  -4.30837253e-02   1.00000000e+00]] [ -0.7288376   91.97559129   4.1946645 ]\n",
        "99\n"
       ]
      }
     ],
     "prompt_number": 4
=======
        "[[  1.           0.18732193  -4.22364712]\n",
        " [  1.56422041   1.         -24.87091351]\n",
        " [ -0.05671869  -0.0399964    1.        ]] [0.02, 20, 0.8]\n",
        "[[  1.           0.18962528  -4.29191063]\n",
        " [  1.75114865   1.         -24.73903975]\n",
        " [ -0.06442025  -0.04020942   1.        ]] [  1.52337164e-02   2.00239423e+01   7.98950923e-01]\n",
        "[[  1.           0.19211165  -4.37258093]\n",
        " [  2.07663123   1.         -24.51905049]\n",
        " [ -0.07822095  -0.0405773    1.        ]] [  8.04213356e-03   2.00652566e+01   7.97121040e-01]\n",
        "[[  1.           0.19270989  -4.41717719]\n",
        " [  2.57377882   1.         -24.21453402]\n",
        " [ -0.10017004  -0.04111515   1.        ]] [  1.18404584e-04   2.01316240e+01   7.94142077e-01]\n",
        "[[  1.           0.18968374  -4.37237519]\n",
        " [  3.02594916   1.         -23.98790992]\n",
        " [ -0.12079304  -0.04154181   1.        ]] [  1.48630161e-03   2.02029276e+01   7.90985515e-01]\n",
        "[[  1.           0.18852013  -4.35046683]\n",
        " [  3.11988973   1.         -23.94955981]\n",
        " [ -0.12510977  -0.04161706   1.        ]] [  3.82561100e-03   2.02201758e+01   7.90247546e-01]\n",
        "stag\n",
        "5\n"
       ]
      }
     ],
     "prompt_number": 53
>>>>>>> b464789026b6ba0ec76dd9513461ea5cc7c9a24a
    },
    {
     "cell_type": "code",
     "collapsed": false,
     "input": [
      "print(p)\n",
      "print(d0.min(),d0.max())\n"
     ],
     "language": "python",
     "metadata": {},
     "outputs": [
      {
       "output_type": "stream",
       "stream": "stdout",
       "text": [
        "[  3.82561100e-03   2.02201758e+01   7.90247546e-01]\n",
        "0.00389529149751 2.84832087234\n"
       ]
      }
     ],
<<<<<<< HEAD
     "prompt_number": 5
=======
     "prompt_number": 54
>>>>>>> b464789026b6ba0ec76dd9513461ea5cc7c9a24a
    },
    {
     "cell_type": "code",
     "collapsed": false,
     "input": [
      "plt.plot(m,d,'ok')\n",
      "plt.plot(m,d0,'or')\n",
      "#plt.xlim(0,26)\n",
      "plt.ylim(0,0.2)\n",
      "#plt.ylim(d0.min(),d0.max())"
     ],
     "language": "python",
     "metadata": {},
     "outputs": [
      {
       "output_type": "pyout",
<<<<<<< HEAD
       "prompt_number": 6,
=======
       "prompt_number": 55,
>>>>>>> b464789026b6ba0ec76dd9513461ea5cc7c9a24a
       "text": [
        "(0, 0.2)"
       ]
      },
      {
       "output_type": "display_data",
       "png": "iVBORw0KGgoAAAANSUhEUgAAAXsAAAD9CAYAAABdoNd6AAAABHNCSVQICAgIfAhkiAAAAAlwSFlz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\niLMXBEFIAcTZC4IgpADi7AVBEFKA/w8kCdCtaND6CQAAAABJRU5ErkJggg==\n"
      }
     ],
<<<<<<< HEAD
     "prompt_number": 6
=======
     "prompt_number": 55
>>>>>>> b464789026b6ba0ec76dd9513461ea5cc7c9a24a
    },
    {
     "cell_type": "code",
     "collapsed": false,
     "input": [
      "r = d-d0\n",
      "plt.hist(r,bins=20)"
     ],
     "language": "python",
     "metadata": {},
     "outputs": [
      {
       "output_type": "pyout",
<<<<<<< HEAD
       "prompt_number": 7,
       "text": [
        "(array([   1,    1,    0,    3,    2,    3,    2,    3,    7,    3,   12,\n",
        "         11,   14,   13,   28,   27,   44,   67,  109, 1791]),\n",
        " array([-379.41699588, -360.40498388, -341.39297188, -322.38095988,\n",
        "       -303.36894788, -284.35693588, -265.34492388, -246.33291188,\n",
        "       -227.32089988, -208.30888788, -189.29687588, -170.28486388,\n",
        "       -151.27285188, -132.26083988, -113.24882788,  -94.23681588,\n",
        "        -75.22480388,  -56.21279188,  -37.20077988,  -18.18876788,\n",
        "          0.82324412]),\n",
=======
       "prompt_number": 56,
       "text": [
        "(array([3131,    7,    2,    0,    1,    0,    0,    0,    0,    0,    0,\n",
        "          0,    0,    0,    0,    0,    0,    0,    0,    1]),\n",
        " array([ -1.82263487,   1.24794993,   4.31853474,   7.38911955,\n",
        "        10.45970435,  13.53028916,  16.60087397,  19.67145877,\n",
        "        22.74204358,  25.81262838,  28.88321319,  31.953798  ,\n",
        "        35.0243828 ,  38.09496761,  41.16555242,  44.23613722,\n",
        "        47.30672203,  50.37730684,  53.44789164,  56.51847645,  59.58906125]),\n",
>>>>>>> b464789026b6ba0ec76dd9513461ea5cc7c9a24a
        " <a list of 20 Patch objects>)"
       ]
      },
      {
       "output_type": "display_data",
<<<<<<< HEAD
       "png": "iVBORw0KGgoAAAANSUhEUgAAAX4AAAD9CAYAAAC7iRw+AAAABHNCSVQICAgIfAhkiAAAAAlwSFlz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\nVIbBT0SkMv8HCMmLjJPRsPkAAAAASUVORK5CYII=\n"
      }
     ],
     "prompt_number": 7
=======
       "png": "iVBORw0KGgoAAAANSUhEUgAAAX4AAAD9CAYAAAC7iRw+AAAABHNCSVQICAgIfAhkiAAAAAlwSFlz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\nqPhFRAyj4hcRMcz/AczCkw9HeoBLAAAAAElFTkSuQmCC\n"
      }
     ],
     "prompt_number": 56
>>>>>>> b464789026b6ba0ec76dd9513461ea5cc7c9a24a
    },
    {
     "cell_type": "code",
     "collapsed": false,
     "input": [],
     "language": "python",
     "metadata": {},
     "outputs": []
    }
   ],
   "metadata": {}
  }
 ]
}