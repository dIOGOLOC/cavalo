{
 "metadata": {
  "name": "Regress\u00e3o N\u00e3o-linear"
 },
 "nbformat": 3,
 "nbformat_minor": 0,
 "worksheets": [
  {
   "cells": [
    {
     "cell_type": "code",
     "collapsed": false,
     "input": [
      "%pylab inline"
     ],
     "language": "python",
     "metadata": {},
     "outputs": [
      {
       "output_type": "stream",
       "stream": "stdout",
       "text": [
        "\n",
        "Welcome to pylab, a matplotlib-based Python environment [backend: module://IPython.zmq.pylab.backend_inline].\n",
        "For more information, type 'help(pylab)'.\n"
       ]
      }
     ],
     "prompt_number": 23
    },
    {
     "cell_type": "code",
     "collapsed": false,
     "input": [
      "from __future__ import print_function\n",
      "import numpy as np\n",
      "import matplotlib.pyplot as plt"
     ],
     "language": "python",
     "metadata": {},
     "outputs": [],
     "prompt_number": 35
    },
    {
     "cell_type": "code",
     "collapsed": false,
     "input": [
      "#Importando a tabela de dados, erro(d) e magnitude(m):\n",
      "\n",
      "tabela=np.loadtxt('C:\\Users\\dIOGO\\Documents\\dados_helio\\TriAnd_SDSS5.dat',delimiter=',',unpack=True)\n",
      "\n",
      "#Desclarando as vari\u00e1veis:\n",
      "m=tabela[4]\n",
      "d=tabela[8]\n",
      "bons = d > 0.01\n",
      "m = m[bons]\n",
      "d = d[bons]\n",
      "p=[0.02,20,0.8]\n",
      "A,B,C=p\n",
      "N=len(d)\n",
      "max_int=100\n",
      "max_passos=50\n",
      "G=np.empty([N,3])\n",
      "tol=10**-8\n",
      "lamb=10**1\n",
      "dlamb=2\n",
      "diag=range(3)\n",
      "d0=A+np.exp(C*m-B)\n",
      "fi=norm(d0-d)**2\n",
      "print(fi)"
     ],
     "language": "python",
     "metadata": {},
     "outputs": [
      {
       "output_type": "stream",
       "stream": "stdout",
       "text": [
        "3899.82850429\n"
       ]
      }
     ],
     "prompt_number": 52
    },
    {
     "cell_type": "code",
     "collapsed": false,
     "input": [
      "#Fazendo o processo Interativo:\n",
      "\n",
      "for i in range(max_int):\n",
      "    fi0=fi\n",
      "    A,B,C=p\n",
      "    G[:,0]=np.ones(N)\n",
      "    G[:,1]=-(C*m-B)*np.exp(C*m-B)\n",
      "    G[:,2]=(C*m-B)*m*np.exp(C*m-B)\n",
      "    hessian=np.dot(G.T,G)\n",
      "    gradient=np.dot(G.T,(d-d0))\n",
      "    precond=np.abs(hessian[diag,diag])\n",
      "    precond[precond < 10**-10] = 10**-10\n",
      "    hessian=(hessian.T/precond).T\n",
      "    gradient=gradient/precond\n",
      "    stagnation=True\n",
      "    print(hessian,p)\n",
      "    for step in xrange(max_passos):\n",
      "            hessian[diag,diag] += lamb\n",
      "            newp = p + np.linalg.solve(hessian, gradient)\n",
      "            A,B,C=newp\n",
      "            newd0=A+np.exp(C*m-B)\n",
      "            newfi=norm(newd0-d)**2\n",
      "            if newfi >= fi0:\n",
      "                hessian[diag,diag] -= lamb\n",
      "                if lamb < 10**15:\n",
      "                    lamb *= dlamb\n",
      "            else:\n",
      "                if lamb > 10**-15:\n",
      "                    lamb /= float(dlamb)\n",
      "                stagnation = False\n",
      "                p=newp\n",
      "                fi=newfi\n",
      "                d0=newd0\n",
      "                break\n",
      "    if stagnation:\n",
      "        print('stag')\n",
      "        break\n",
      "    if abs(fi-fi0)/float(fi0) < tol:\n",
      "        print(abs(fi-fi0)/float(fi0))\n",
      "        break\n",
      "print(i)"
     ],
     "language": "python",
     "metadata": {},
     "outputs": [
      {
       "output_type": "stream",
       "stream": "stdout",
       "text": [
        "[[  1.           0.18732193  -4.22364712]\n",
        " [  1.56422041   1.         -24.87091351]\n",
        " [ -0.05671869  -0.0399964    1.        ]] [0.02, 20, 0.8]\n",
        "[[  1.           0.18962528  -4.29191063]\n",
        " [  1.75114865   1.         -24.73903975]\n",
        " [ -0.06442025  -0.04020942   1.        ]] [  1.52337164e-02   2.00239423e+01   7.98950923e-01]\n",
        "[[  1.           0.19211165  -4.37258093]\n",
        " [  2.07663123   1.         -24.51905049]\n",
        " [ -0.07822095  -0.0405773    1.        ]] [  8.04213356e-03   2.00652566e+01   7.97121040e-01]\n",
        "[[  1.           0.19270989  -4.41717719]\n",
        " [  2.57377882   1.         -24.21453402]\n",
        " [ -0.10017004  -0.04111515   1.        ]] [  1.18404584e-04   2.01316240e+01   7.94142077e-01]\n",
        "[[  1.           0.18968374  -4.37237519]\n",
        " [  3.02594916   1.         -23.98790992]\n",
        " [ -0.12079304  -0.04154181   1.        ]] [  1.48630161e-03   2.02029276e+01   7.90985515e-01]\n",
        "[[  1.           0.18852013  -4.35046683]\n",
        " [  3.11988973   1.         -23.94955981]\n",
        " [ -0.12510977  -0.04161706   1.        ]] [  3.82561100e-03   2.02201758e+01   7.90247546e-01]\n",
        "stag\n",
        "5\n"
       ]
      }
     ],
     "prompt_number": 53
    },
    {
     "cell_type": "code",
     "collapsed": false,
     "input": [
      "print(p)\n",
      "print(d0.min(),d0.max())\n"
     ],
     "language": "python",
     "metadata": {},
     "outputs": [
      {
       "output_type": "stream",
       "stream": "stdout",
       "text": [
        "[  3.82561100e-03   2.02201758e+01   7.90247546e-01]\n",
        "0.00389529149751 2.84832087234\n"
       ]
      }
     ],
     "prompt_number": 54
    },
    {
     "cell_type": "code",
     "collapsed": false,
     "input": [
      "plt.plot(m,d,'ok')\n",
      "plt.plot(m,d0,'or')\n",
      "#plt.xlim(0,26)\n",
      "plt.ylim(0,0.2)\n",
      "#plt.ylim(d0.min(),d0.max())"
     ],
     "language": "python",
     "metadata": {},
     "outputs": [
      {
       "output_type": "pyout",
       "prompt_number": 55,
       "text": [
        "(0, 0.2)"
       ]
      },
      {
       "output_type": "display_data",
       "png": "[encoded data removed]"
      }
     ],
     "prompt_number": 55
    },
    {
     "cell_type": "code",
     "collapsed": false,
     "input": [
      "r = d-d0\n",
      "plt.hist(r,bins=20)"
     ],
     "language": "python",
     "metadata": {},
     "outputs": [
      {
       "output_type": "pyout",
       "prompt_number": 56,
       "text": [
        "(array([3131,    7,    2,    0,    1,    0,    0,    0,    0,    0,    0,\n",
        "          0,    0,    0,    0,    0,    0,    0,    0,    1]),\n",
        " array([ -1.82263487,   1.24794993,   4.31853474,   7.38911955,\n",
        "        10.45970435,  13.53028916,  16.60087397,  19.67145877,\n",
        "        22.74204358,  25.81262838,  28.88321319,  31.953798  ,\n",
        "        35.0243828 ,  38.09496761,  41.16555242,  44.23613722,\n",
        "        47.30672203,  50.37730684,  53.44789164,  56.51847645,  59.58906125]),\n",
        " <a list of 20 Patch objects>)"
       ]
      },
      {
       "output_type": "display_data",
       "png": "[encoded data removed]"
      }
     ],
     "prompt_number": 56
    },
    {
     "cell_type": "code",
     "collapsed": false,
     "input": [],
     "language": "python",
     "metadata": {},
     "outputs": []
    }
   ],
   "metadata": {}
  }
 ]
}