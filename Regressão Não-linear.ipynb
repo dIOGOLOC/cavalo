{
 "metadata": {
  "name": "Regress\u00e3o N\u00e3o-linear"
 },
 "nbformat": 3,
 "nbformat_minor": 0,
 "worksheets": [
  {
   "cells": [
    {
     "cell_type": "code",
     "collapsed": false,
     "input": [
      "%pylab inline"
     ],
     "language": "python",
     "metadata": {},
     "outputs": [
      {
       "output_type": "stream",
       "stream": "stdout",
       "text": [
        "\n",
        "Welcome to pylab, a matplotlib-based Python environment [backend: module://IPython.zmq.pylab.backend_inline].\n",
        "For more information, type 'help(pylab)'.\n"
       ]
      }
     ],
     "prompt_number": 1
    },
    {
     "cell_type": "code",
     "collapsed": false,
     "input": [
      "from __future__ import print_function\n",
      "import numpy as np\n",
      "import matplotlib.pyplot as plt"
     ],
     "language": "python",
     "metadata": {},
     "outputs": [],
     "prompt_number": 2
    },
    {
     "cell_type": "code",
     "collapsed": false,
     "input": [
      "#Importando a tabela de dados, erro(d) e magnitude(m):\n",
      "\n",
      "tabela=np.loadtxt('/home/diogo/Ubuntu One/Material Mestrado ON/teste/dados_helio/TriAnd_SDSS1.dat',delimiter=',',unpack=True)\n",
      "\n",
      "#Desclarando as vari\u00e1veis:\n",
      "m=tabela[4]\n",
      "d=tabela[8]\n",
      "p=[0.01,0.01,0.01]\n",
      "A,B,C=p\n",
      "N=len(d)\n",
      "max_int=1\n",
      "G=np.empty([N,3])\n",
      "tol=10**-5"
     ],
     "language": "python",
     "metadata": {},
     "outputs": [],
     "prompt_number": 80
    },
    {
     "cell_type": "code",
     "collapsed": false,
     "input": [
      "#Fazendo o processo Interativo:\n",
      "\n",
      "for i in range(max_int):\n",
      "\n",
      "    A,B,C=p\n",
      "    G[:,0]=np.ones(N)\n",
      "    G[:,1]=(C*m+B)*np.exp(C*m+B)\n",
      "    G[:,2]=(C*m+B)*m*np.exp(C*m+B)\n",
      "    d0=A+np.exp(C*m+B)\n",
      "    fi0=norm(d0-d)**2\n",
      "    hessian, gradient = np.dot(G.T,G), np.dot(G.T,(d-d0))\n",
      "    precond = np.abs(hessian[range(3),range(3)])\n",
      "    hessian = (hessian.T/precond).T\n",
      "    gradient = gradient/precond\n",
      "    dp=numpy.linalg.solve(hessian, gradient)\n",
      "    p=p+dp\n",
      "    A,B,C=p\n",
      "    d0=A+np.exp(C*m+B)\n",
      "    fi=norm(d0-d)**2\n",
      "    if abs(fi-fi0)/fi0 < tol:\n",
      "        break\n",
      "print(i)"
     ],
     "language": "python",
     "metadata": {},
     "outputs": [
      {
       "output_type": "stream",
       "stream": "stdout",
       "text": [
        "999\n"
       ]
      }
     ],
     "prompt_number": 88
    },
    {
     "cell_type": "code",
     "collapsed": false,
     "input": [
      "print(p)\n",
      "A,B,C=p\n",
      "r=A+np.exp(C*m+B)\n",
      "print(r)\n"
     ],
     "language": "python",
     "metadata": {},
     "outputs": [
      {
       "output_type": "stream",
       "stream": "stdout",
       "text": [
        "[ nan  nan  nan]\n",
        "[ nan  nan  nan ...,  nan  nan  nan]\n"
       ]
      }
     ],
     "prompt_number": 71
    },
    {
     "cell_type": "code",
     "collapsed": false,
     "input": [
      "plt.plot(tabela[4],tabela[8],'ok')\n",
      "plt.plot(m,r,'or')\n",
      "#plt.xlim(0,26)\n",
      "#plt.ylim(0,0.15)"
     ],
     "language": "python",
     "metadata": {},
     "outputs": [
      {
       "output_type": "pyout",
       "prompt_number": 54,
       "text": [
        "[<matplotlib.lines.Line2D at 0x38c8150>]"
       ]
      },
      {
       "output_type": "display_data",
       "png": "[encoded data removed]"
      }
     ],
     "prompt_number": 54
    },
    {
     "cell_type": "code",
     "collapsed": false,
     "input": [
      "plt.plot(m,r,'or')\n",
      "plt.xlim(24,26)"
     ],
     "language": "python",
     "metadata": {},
     "outputs": [
      {
       "output_type": "pyout",
       "prompt_number": 49,
       "text": [
        "(24, 26)"
       ]
      },
      {
       "output_type": "display_data",
       "png": "[encoded data removed]"
      }
     ],
     "prompt_number": 49
    },
    {
     "cell_type": "code",
     "collapsed": false,
     "input": [],
     "language": "python",
     "metadata": {},
     "outputs": []
    }
   ],
   "metadata": {}
  }
 ]
}