{
 "metadata": {
  "name": "Regress\u00e3o N\u00e3o-linear"
 },
 "nbformat": 3,
 "nbformat_minor": 0,
 "worksheets": [
  {
   "cells": [
    {
     "cell_type": "code",
     "collapsed": false,
     "input": [
      "%pylab inline"
     ],
     "language": "python",
     "metadata": {},
     "outputs": [
      {
       "output_type": "stream",
       "stream": "stdout",
       "text": [
        "\n",
        "Welcome to pylab, a matplotlib-based Python environment [backend: module://IPython.zmq.pylab.backend_inline].\n",
        "For more information, type 'help(pylab)'.\n"
       ]
      }
     ],
     "prompt_number": 1
    },
    {
     "cell_type": "code",
     "collapsed": false,
     "input": [
      "from __future__ import print_function\n",
      "import numpy as np\n",
      "import matplotlib.pyplot as plt"
     ],
     "language": "python",
     "metadata": {},
     "outputs": [],
     "prompt_number": 2
    },
    {
     "cell_type": "code",
     "collapsed": false,
     "input": [
      "#Desclarando as vari\u00e1veis:\n",
      "d0=\n",
      "max_int=50\n",
      "p=[1,5,100]\n",
      "G=np.empty(N,3)\n",
      "sigma=A+np.exp(C*m+B)\n"
     ],
     "language": "python",
     "metadata": {},
     "outputs": []
    },
    {
     "cell_type": "code",
     "collapsed": false,
     "input": [
      "#Fazendo o processo Interativo:\n",
      "\n",
      "\n",
      "for i in range(max_int):\n",
      "\n",
      "A,B,C=p\n",
      "G=[:,0]=np.ones(N)\n",
      "G=[:,1]=(C*m+B)*np.exp(C*m+B)\n",
      "G=[:,2]=(C*m+B)*m*np.exp(C*m+B)\n",
      "d=A+np.exp(C*m+B)\n",
      "fi0=norm(d0-d)**2\n",
      "Del_p=numpy.linalg.solve(np.dot(G.T,G),np.dot(G.T,(d0-d)))\n",
      "\n",
      "A,B,C=p, d=A+np.exp(C*m+B)\n",
      "fi=norm(d0-d)**2\n",
      "if abs(fi-fi0)/fi0 < tol:\n",
      "    break"
     ],
     "language": "python",
     "metadata": {},
     "outputs": []
    }
   ],
   "metadata": {}
  }
 ]
}