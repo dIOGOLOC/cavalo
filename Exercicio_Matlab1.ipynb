{
 "metadata": {
  "name": "Exercicio_Matlab1"
 },
 "nbformat": 3,
 "nbformat_minor": 0,
 "worksheets": [
  {
   "cells": [
    {
     "cell_type": "code",
     "collapsed": false,
     "input": [
      "%pylab inline"
     ],
     "language": "python",
     "metadata": {},
     "outputs": [
      {
       "output_type": "stream",
       "stream": "stdout",
       "text": [
        "\n",
        "Welcome to pylab, a matplotlib-based Python environment [backend: module://IPython.zmq.pylab.backend_inline].\n",
        "For more information, type 'help(pylab)'.\n"
       ]
      }
     ],
     "prompt_number": 1
    },
    {
     "cell_type": "code",
     "collapsed": false,
     "input": [
      "from __future__ import print_function\n",
      "import numpy as np\n",
      "import matplotlib.pyplot as plt\n",
      "\n",
      "#--------------------------------------------------------\n",
      "#Exerc\u00edcio pr\u00e1tico numero 1:\n",
      "\n",
      "#Dados de entrada: n, ruido(r) e xi.\n",
      "\n",
      "#Se ruido(r)=0 ==> y_observado = y_teorico.\n",
      "\n",
      "r=0.02\n",
      "\n",
      "#--------------------------------------------------------\n",
      "#Parametros p1 e p2 do problema \n",
      "\n",
      "p1=0.6\n",
      "p2=2\n",
      "\n",
      "#Calculando a reta teorica ---> yt\n",
      "\n",
      "#x=np.array([4.3,4.5,4.6,4.8])\n",
      "x=np.linspace(4, 5, 20)\n",
      "n=len(x)\n",
      "yt=p1*x+p2\n",
      "    \n",
      "#Calculando os dados observados com ruido --->yobs\n",
      "\n",
      "yobs=yt + np.random.normal(scale=r, size=len(yt))-0.5*2*3*r\n",
      "print(x,yobs)\n",
      "\n",
      "    "
     ],
     "language": "python",
     "metadata": {},
     "outputs": [
      {
       "output_type": "stream",
       "stream": "stdout",
       "text": [
        "[ 4.          4.05263158  4.10526316  4.15789474  4.21052632  4.26315789\n",
        "  4.31578947  4.36842105  4.42105263  4.47368421  4.52631579  4.57894737\n",
        "  4.63157895  4.68421053  4.73684211  4.78947368  4.84210526  4.89473684\n",
        "  4.94736842  5.        ] [ 4.34362656  4.35225543  4.42784094  4.4537498   4.48439778  4.46946955\n",
        "  4.49773208  4.58402199  4.58852986  4.66121548  4.66912026  4.68030215\n",
        "  4.68962906  4.7325823   4.76103795  4.79504283  4.8243289   4.86427658\n",
        "  4.90263025  4.92453633]\n"
       ]
      }
     ],
     "prompt_number": 2
    },
    {
     "cell_type": "code",
     "collapsed": false,
     "input": [
      "#Plotando o gr\u00e1fico:\n",
      "plt.plot(x, yobs, '.k')\n",
      "plt.xlabel('x')\n",
      "plt.ylabel('y')\n",
      "plt.show()\n"
     ],
     "language": "python",
     "metadata": {},
     "outputs": [
      {
       "output_type": "display_data",
       "png": "[encoded data removed]"
      }
     ],
     "prompt_number": 3
    },
    {
     "cell_type": "code",
     "collapsed": false,
     "input": [
      "#Estimando a matriz sensibilidade:\n",
      "\n",
      "a=np.array([x,np.ones(n)]).T\n",
      "print(a)\n",
      "   "
     ],
     "language": "python",
     "metadata": {},
     "outputs": [
      {
       "output_type": "stream",
       "stream": "stdout",
       "text": [
        "[[ 4.          1.        ]\n",
        " [ 4.05263158  1.        ]\n",
        " [ 4.10526316  1.        ]\n",
        " [ 4.15789474  1.        ]\n",
        " [ 4.21052632  1.        ]\n",
        " [ 4.26315789  1.        ]\n",
        " [ 4.31578947  1.        ]\n",
        " [ 4.36842105  1.        ]\n",
        " [ 4.42105263  1.        ]\n",
        " [ 4.47368421  1.        ]\n",
        " [ 4.52631579  1.        ]\n",
        " [ 4.57894737  1.        ]\n",
        " [ 4.63157895  1.        ]\n",
        " [ 4.68421053  1.        ]\n",
        " [ 4.73684211  1.        ]\n",
        " [ 4.78947368  1.        ]\n",
        " [ 4.84210526  1.        ]\n",
        " [ 4.89473684  1.        ]\n",
        " [ 4.94736842  1.        ]\n",
        " [ 5.          1.        ]]\n"
       ]
      }
     ],
     "prompt_number": 4
    },
    {
     "cell_type": "code",
     "collapsed": false,
     "input": [
      "#Montando o sistema linear e Calculando os par\u00e2metros:\n",
      "\n",
      "b=np.linalg.inv(np.dot(a.T,a))\n",
      "c=np.dot(b,a.T)\n",
      "p=np.dot(c,yobs)\n",
      "print(p)\n",
      "\n",
      "\n"
     ],
     "language": "python",
     "metadata": {},
     "outputs": [
      {
       "output_type": "stream",
       "stream": "stdout",
       "text": [
        "[ 0.57505915  2.04755014]\n"
       ]
      }
     ],
     "prompt_number": 5
    },
    {
     "cell_type": "code",
     "collapsed": false,
     "input": [
      "#Plotando os dados calculados com o estimador:\n",
      "\n",
      "y=p[0]*x+p[1]\n",
      "print(y)\n",
      "\n",
      "plt.plot(x, y, '-r')\n",
      "plt.xlabel('x')\n",
      "plt.ylabel('y')\n",
      "plt.show()"
     ],
     "language": "python",
     "metadata": {},
     "outputs": [
      {
       "output_type": "stream",
       "stream": "stdout",
       "text": [
        "[ 4.34778673  4.378053    4.40831927  4.43858554  4.46885181  4.49911808\n",
        "  4.52938436  4.55965063  4.5899169   4.62018317  4.65044944  4.68071571\n",
        "  4.71098198  4.74124825  4.77151452  4.80178079  4.83204706  4.86231334\n",
        "  4.89257961  4.92284588]\n"
       ]
      },
      {
       "output_type": "display_data",
       "png": "[encoded data removed]"
      }
     ],
     "prompt_number": 6
    },
    {
     "cell_type": "code",
     "collapsed": false,
     "input": [
      "#Plotando os gr\u00e1ficos para analisar o Estimador:\n",
      "\n",
      "plt.plot(x,yobs, '.k')\n",
      "plt.plot(x, y, '--g')\n",
      "plt.xlabel('x')\n",
      "plt.ylabel('y')\n",
      "plt.show()"
     ],
     "language": "python",
     "metadata": {},
     "outputs": [
      {
       "output_type": "display_data",
       "png": "[encoded data removed]"
      }
     ],
     "prompt_number": 7
    },
    {
     "cell_type": "code",
     "collapsed": false,
     "input": [
      "#Calculando a Vari\u00e2ncia do par\u00e2metros a e b:\n",
      "\n",
      "va=r/(np.sum((x-np.mean(x))**2))\n",
      "vb=(r**2)*np.sum(x**2)/(n*np.sum((x-np.mean(x))**2))\n",
      "print(va,vb)"
     ],
     "language": "python",
     "metadata": {},
     "outputs": [
      {
       "output_type": "stream",
       "stream": "stdout",
       "text": [
        "0.0108571428571 0.00441714285714\n"
       ]
      }
     ],
     "prompt_number": 8
    },
    {
     "cell_type": "code",
     "collapsed": false,
     "input": [],
     "language": "python",
     "metadata": {},
     "outputs": [],
     "prompt_number": 8
    },
    {
     "cell_type": "code",
     "collapsed": false,
     "input": [],
     "language": "python",
     "metadata": {},
     "outputs": [],
     "prompt_number": 8
    },
    {
     "cell_type": "code",
     "collapsed": false,
     "input": [],
     "language": "python",
     "metadata": {},
     "outputs": []
    }
   ],
   "metadata": {}
  }
 ]
}