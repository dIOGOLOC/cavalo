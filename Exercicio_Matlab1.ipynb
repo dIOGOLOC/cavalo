{
 "metadata": {
  "name": "Exercicio_Matlab1"
 },
 "nbformat": 3,
 "nbformat_minor": 0,
 "worksheets": [
  {
   "cells": [
    {
     "cell_type": "code",
     "collapsed": false,
     "input": [
      "%pylab inline"
     ],
     "language": "python",
     "metadata": {},
     "outputs": [
      {
       "output_type": "stream",
       "stream": "stdout",
       "text": [
        "\n",
        "Welcome to pylab, a matplotlib-based Python environment [backend: module://IPython.zmq.pylab.backend_inline].\n",
        "For more information, type 'help(pylab)'.\n"
       ]
      }
     ],
     "prompt_number": 33
    },
    {
     "cell_type": "code",
     "collapsed": false,
     "input": [
      "import numpy as np\n",
      "import matplotlib.pyplot as plt\n",
      "\n",
      "#--------------------------------------------------------\n",
      "#Exerc\u00edcio pr\u00e1tico numero 1:\n",
      "\n",
      "#Dados de entrada: n, ruido(r) e xi.\n",
      "\n",
      "#Se ruido(r)=0 ==> y_observado = y_teorico.\n",
      "\n",
      "r=0.1\n",
      "\n",
      "#--------------------------------------------------------\n",
      "#Parametros p1 e p2 do problema \n",
      "\n",
      "p1=0.6\n",
      "p2=2\n",
      "\n",
      "#Calculando a reta teorica ---> yt\n",
      "\n",
      "#x=np.array([4.3,4.5,4.6,4.8])\n",
      "x = np.linspace(4, 5, 20)\n",
      "n = len(x)\n",
      "yt=p1*x+p2\n",
      "    \n",
      "#Calculando os dados observados com ruido --->yobs\n",
      "\n",
      "yobs=yt + np.random.normal(scale=r, size=len(yt)) #+np.random.randn()-0.5*2*3*r\n",
      "print(x,yobs)\n",
      "\n",
      "    "
     ],
     "language": "python",
     "metadata": {},
     "outputs": [
      {
       "output_type": "stream",
       "stream": "stdout",
       "text": [
        "(array([ 4.        ,  4.05263158,  4.10526316,  4.15789474,  4.21052632,\n",
        "        4.26315789,  4.31578947,  4.36842105,  4.42105263,  4.47368421,\n",
        "        4.52631579,  4.57894737,  4.63157895,  4.68421053,  4.73684211,\n",
        "        4.78947368,  4.84210526,  4.89473684,  4.94736842,  5.        ]), array([ 4.42238086,  4.45141003,  4.4828726 ,  4.4365545 ,  4.53508042,\n",
        "        4.34674581,  4.53588923,  4.55688512,  4.58308118,  4.86585835,\n",
        "        4.75372849,  4.91314663,  5.00380861,  4.82441671,  4.8406575 ,\n",
        "        4.86058418,  4.84666677,  4.84274868,  5.08327769,  4.96646838]))\n"
       ]
      }
     ],
     "prompt_number": 81
    },
    {
     "cell_type": "code",
     "collapsed": false,
     "input": [
      "#Plotando o gr\u00e1fico:\n",
      "plt.plot(x, yobs, '.k')\n",
      "plt.xlabel('x')\n",
      "plt.ylabel('y')\n",
      "plt.show()\n"
     ],
     "language": "python",
     "metadata": {},
     "outputs": [
      {
       "output_type": "display_data",
       "png": "[encoded data removed]"
      }
     ],
     "prompt_number": 82
    },
    {
     "cell_type": "code",
     "collapsed": false,
     "input": [
      "#Estimando a matriz sensibilidade:\n",
      "\n",
      "a=np.array([x,np.ones(n)]).T\n",
      "print(a)\n",
      "   "
     ],
     "language": "python",
     "metadata": {},
     "outputs": [
      {
       "output_type": "stream",
       "stream": "stdout",
       "text": [
        "[[ 4.          1.        ]\n",
        " [ 4.05263158  1.        ]\n",
        " [ 4.10526316  1.        ]\n",
        " [ 4.15789474  1.        ]\n",
        " [ 4.21052632  1.        ]\n",
        " [ 4.26315789  1.        ]\n",
        " [ 4.31578947  1.        ]\n",
        " [ 4.36842105  1.        ]\n",
        " [ 4.42105263  1.        ]\n",
        " [ 4.47368421  1.        ]\n",
        " [ 4.52631579  1.        ]\n",
        " [ 4.57894737  1.        ]\n",
        " [ 4.63157895  1.        ]\n",
        " [ 4.68421053  1.        ]\n",
        " [ 4.73684211  1.        ]\n",
        " [ 4.78947368  1.        ]\n",
        " [ 4.84210526  1.        ]\n",
        " [ 4.89473684  1.        ]\n",
        " [ 4.94736842  1.        ]\n",
        " [ 5.          1.        ]]\n"
       ]
      }
     ],
     "prompt_number": 83
    },
    {
     "cell_type": "code",
     "collapsed": false,
     "input": [
      "#Montando o sistema linear:\n",
      "\n",
      "b=np.linalg.inv(np.dot(a.T,a))\n",
      "c=np.dot(b,a.T)\n",
      "p=np.dot(c,yobs)\n",
      "print(p)\n",
      "\n",
      "\n"
     ],
     "language": "python",
     "metadata": {},
     "outputs": [
      {
       "output_type": "stream",
       "stream": "stdout",
       "text": [
        "[ 0.64238766  1.81686861]\n"
       ]
      }
     ],
     "prompt_number": 84
    },
    {
     "cell_type": "code",
     "collapsed": false,
     "input": [
      "#Plotando os dados calculados com o estimador:\n",
      "y=p[0]*x+p[1]\n",
      "print(y)\n",
      "plt.plot(x, y, '-r')\n",
      "plt.xlabel('x')\n",
      "plt.ylabel('y')\n",
      "plt.show()"
     ],
     "language": "python",
     "metadata": {},
     "outputs": [
      {
       "output_type": "stream",
       "stream": "stdout",
       "text": [
        "[ 4.38641926  4.42022913  4.45403901  4.48784889  4.52165876  4.55546864\n",
        "  4.58927852  4.62308839  4.65689827  4.69070815  4.72451803  4.7583279\n",
        "  4.79213778  4.82594766  4.85975753  4.89356741  4.92737729  4.96118716\n",
        "  4.99499704  5.02880692]\n"
       ]
      },
      {
       "output_type": "display_data",
       "png": "[encoded data removed]"
      }
     ],
     "prompt_number": 85
    },
    {
     "cell_type": "code",
     "collapsed": false,
     "input": [
      "#Plotando o gr\u00e1fico para analisar o Estimador:\n",
      "plt.plot(x,yobs, '.k')\n",
      "plt.plot(x, y, '--r')\n",
      "plt.xlabel('x')\n",
      "plt.ylabel('y')\n",
      "plt.show()"
     ],
     "language": "python",
     "metadata": {},
     "outputs": [
      {
       "output_type": "display_data",
       "png": "[encoded data removed]"
      }
     ],
     "prompt_number": 86
    },
    {
     "cell_type": "code",
     "collapsed": false,
     "input": [],
     "language": "python",
     "metadata": {},
     "outputs": [],
     "prompt_number": 46
    },
    {
     "cell_type": "code",
     "collapsed": false,
     "input": [],
     "language": "python",
     "metadata": {},
     "outputs": []
    }
   ],
   "metadata": {}
  }
 ]
}