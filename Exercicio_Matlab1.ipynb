{
 "metadata": {
  "name": "Exercicio_Matlab1"
 },
 "nbformat": 3,
 "nbformat_minor": 0,
 "worksheets": [
  {
   "cells": [
    {
     "cell_type": "code",
     "collapsed": false,
     "input": [
      "%pylab inline"
     ],
     "language": "python",
     "metadata": {},
     "outputs": [
      {
       "output_type": "stream",
       "stream": "stdout",
       "text": [
        "\n",
        "Welcome to pylab, a matplotlib-based Python environment [backend: module://IPython.zmq.pylab.backend_inline].\n",
        "For more information, type 'help(pylab)'.\n"
       ]
      }
     ],
     "prompt_number": 1
    },
    {
     "cell_type": "code",
     "collapsed": false,
     "input": [
      "import numpy as np\n",
      "import matplotlib.pyplot as plt\n",
      "\n",
      "#--------------------------------------------------------\n",
      "#Exerc\u00edcio pr\u00e1tico numero 1:\n",
      "\n",
      "#Dados de entrada: n, ruido(r) e xi.\n",
      "\n",
      "#Se ruido(r)=0 ==> y_observado = y_teorico.\n",
      "\n",
      "n=4\n",
      "r=0.02\n",
      "\n",
      "#--------------------------------------------------------\n",
      "#Parametros p1 e p2 do problema \n",
      "\n",
      "p1=0.6\n",
      "p2=2\n",
      "\n",
      "#Calculando a reta teorica ---> yt\n",
      "\n",
      "x=np.array([4.3,4.5,4.6,4.8])\n",
      "yt=p1*x+p2\n",
      "    \n",
      "#Calculando os dados observados com ruido --->yobs\n",
      "\n",
      "yobs=p1*x+p2+np.random.randn()-0.5*2*3*r\n",
      "print(x,yt,yobs)\n",
      "\n",
      "    "
     ],
     "language": "python",
     "metadata": {},
     "outputs": [
      {
       "output_type": "stream",
       "stream": "stdout",
       "text": [
        "(array([ 4.3,  4.5,  4.6,  4.8]), array([ 4.58,  4.7 ,  4.76,  4.88]), array([ 4.98430409,  5.10430409,  5.16430409,  5.28430409]))\n"
       ]
      }
     ],
     "prompt_number": 42
    },
    {
     "cell_type": "code",
     "collapsed": false,
     "input": [
      "#Plotando o gr\u00e1fico:\n",
      "plt.plot(x, yobs, '-r')\n",
      "plt.xlabel('x')\n",
      "plt.ylabel('y')\n",
      "plt.show()\n"
     ],
     "language": "python",
     "metadata": {},
     "outputs": [],
     "prompt_number": 43
    },
    {
     "cell_type": "code",
     "collapsed": false,
     "input": [
      "#Estimando a matriz sensibilidade:\n",
      "\n",
      "a=np.array([x,np.ones(n)]).T\n",
      "print(a)\n",
      "   "
     ],
     "language": "python",
     "metadata": {},
     "outputs": [
      {
       "output_type": "stream",
       "stream": "stdout",
       "text": [
        "[[ 4.3  1. ]\n",
        " [ 4.5  1. ]\n",
        " [ 4.6  1. ]\n",
        " [ 4.8  1. ]]\n"
       ]
      }
     ],
     "prompt_number": 54
    },
    {
     "cell_type": "code",
     "collapsed": false,
     "input": [
      "#"
     ],
     "language": "python",
     "metadata": {},
     "outputs": []
    }
   ],
   "metadata": {}
  }
 ]
}