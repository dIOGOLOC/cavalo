{
 "metadata": {
  "name": "Projeto Tomografia"
 },
 "nbformat": 3,
 "nbformat_minor": 0,
 "worksheets": [
  {
   "cells": [
    {
     "cell_type": "code",
     "collapsed": false,
     "input": [
      "%pylab inline"
     ],
     "language": "python",
     "metadata": {},
     "outputs": [
      {
       "output_type": "stream",
       "stream": "stdout",
       "text": [
        "\n",
        "Welcome to pylab, a matplotlib-based Python environment [backend: module://IPython.zmq.pylab.backend_inline].\n",
        "For more information, type 'help(pylab)'.\n"
       ]
      }
     ],
     "prompt_number": 12
    },
    {
     "cell_type": "code",
     "collapsed": false,
     "input": [
      "from __future__ import print_function\n",
      "import numpy as np\n",
      "import matplotlib.pyplot as plt"
     ],
     "language": "python",
     "metadata": {},
     "outputs": [],
     "prompt_number": 13
    },
    {
     "cell_type": "code",
     "collapsed": false,
     "input": [
      "#Sendo pt=par\u00e2metros verdadeiros\n",
      "pt=[3,3,3,3,10,3,3,3,3]\n",
      "plt.pcolor(np.reshape(pt,(3,3)))"
     ],
     "language": "python",
     "metadata": {},
     "outputs": [
      {
       "output_type": "pyout",
       "prompt_number": 156,
       "text": [
        "<matplotlib.collections.PolyCollection at 0x6e767f0>"
       ]
      },
      {
       "output_type": "display_data",
       "png": "[encoded data removed]"
      }
     ],
     "prompt_number": 156
    },
    {
     "cell_type": "code",
     "collapsed": false,
     "input": [
      "#Declarando as vari\u00e1veis:\n",
      "\n",
      "v=10 #Tamanho da C\u00e9lula\n",
      "e=sqrt(2)\n",
      "\n",
      "#Preenchendo a matriz sensibilidade (A):\n",
      "\n",
      "A=np.array([[e*v,0,0,0,e*v,0,0,0,e*v],[v,0,0,v,0,0,v,0,0],[0,v,0,0,v,0,0,v,0],[0,0,v,0,0,v,0,0,v],[0,0,e*v,0,e*v,0,e*v,0,0],[v,v,v,0,0,0,0,0,0],[0.8*v,0,0,0.4*v,1.2*v,0,0,0,1.1*v],[0,0,0,v,v,v,0,0,0],[0,0,0,0,0,0,v,v,v]])\n",
      "\n",
      "#Matriz Identidade(I):\n",
      "\n",
      "I=np.identity(len(A))\n",
      "\n",
      "#Preenchendo a matriz de intera\u00e7\u00e3o entre os quadrados (W):\n",
      "\n",
      "R=np.array([[-1,1,0,0,0,0,0,0,0],[0,1,-1,0,0,0,0,0,0],[0,0,0,1,-1,0,0,0,0],[0,0,0,0,1,-1,0,0,0],[0,0,0,0,0,0,1,-1,0],[0,0,0,0,0,0,0,1,-1],[1,0,0,-1,0,0,0,0,0],[0,1,0,0,-1,0,0,0,0],[0,0,1,0,0,-1,0,0,0],[0,0,0,1,0,0,-1,0,0],[0,0,0,0,1,0,0,-1,0],[0,0,0,0,0,1,0,0,-1]])\n",
      "\n",
      "W=np.dot(R.T,R)\n",
      "print(W)"
     ],
     "language": "python",
     "metadata": {},
     "outputs": [
      {
       "output_type": "stream",
       "stream": "stdout",
       "text": [
        "[[ 2 -1  0 -1  0  0  0  0  0]\n",
        " [-1  3 -1  0 -1  0  0  0  0]\n",
        " [ 0 -1  2  0  0 -1  0  0  0]\n",
        " [-1  0  0  3 -1  0 -1  0  0]\n",
        " [ 0 -1  0 -1  4 -1  0 -1  0]\n",
        " [ 0  0 -1  0 -1  3  0  0 -1]\n",
        " [ 0  0  0 -1  0  0  2 -1  0]\n",
        " [ 0  0  0  0 -1  0 -1  3 -1]\n",
        " [ 0  0  0  0  0 -1  0 -1  2]]\n"
       ]
      }
     ],
     "prompt_number": 157
    },
    {
     "cell_type": "code",
     "collapsed": false,
     "input": [
      "#Calculando os dados pelo modelo Direto:\n",
      "#yc=dados calculados\n",
      "\n",
      "yc=np.dot(A,pt)\n",
      "\n",
      "#Contaminando os dados com dados esp\u00f3rios:\n",
      "mod_yc=max(0.02*yc)\n",
      "\n",
      "yobs=yc+np.random.uniform(0,mod_yc)\n",
      "\n",
      "\n",
      "print(yc)\n",
      "print(yobs)"
     ],
     "language": "python",
     "metadata": {},
     "outputs": [
      {
       "output_type": "stream",
       "stream": "stdout",
       "text": [
        "[ 226.27416998   90.          160.           90.          226.27416998\n",
        "   90.          189.          160.           90.        ]\n",
        "[ 227.01019521   90.73602523  160.73602523   90.73602523  227.01019521\n",
        "   90.73602523  189.73602523  160.73602523   90.73602523]\n"
       ]
      }
     ],
     "prompt_number": 158
    },
    {
     "cell_type": "code",
     "collapsed": false,
     "input": [
      "#Contruindo os estimador para os m\u00e9todos:\n",
      "#p=par\u00e2metros\n",
      "#ur=regularizador tikonov de ordem 0\n",
      "#us=regularizador tikonov de ordem 1\n",
      "\n",
      "ur=0.1\n",
      "us=0.001\n",
      "\n",
      "p=np.linalg.solve((np.dot(A.T,A)+ur*I+us*W),np.dot(A.T,yobs))"
     ],
     "language": "python",
     "metadata": {},
     "outputs": [],
     "prompt_number": 159
    },
    {
     "cell_type": "code",
     "collapsed": false,
     "input": [
      "#Plotando os par\u00e2metros calculados:\n",
      "print(p)\n",
      "plt.pcolor(np.reshape(p,(3,3)))"
     ],
     "language": "python",
     "metadata": {},
     "outputs": [
      {
       "output_type": "stream",
       "stream": "stdout",
       "text": [
        "[  3.0097301    3.03600723   3.02757638   3.04901367  10.00865495\n",
        "   3.0132696    3.01458345   3.02626253   3.03247786]\n"
       ]
      },
      {
       "output_type": "pyout",
       "prompt_number": 160,
       "text": [
        "<matplotlib.collections.PolyCollection at 0x89ab630>"
       ]
      },
      {
       "output_type": "display_data",
       "png": "[encoded data removed]"
      }
     ],
     "prompt_number": 160
    },
    {
     "cell_type": "code",
     "collapsed": false,
     "input": [
      "#Calculando o posto(rank):\n",
      "\n",
      "rank=len(A)-np.rank(A)\n",
      "print(rank)"
     ],
     "language": "python",
     "metadata": {},
     "outputs": [
      {
       "output_type": "stream",
       "stream": "stdout",
       "text": [
        "7\n"
       ]
      }
     ],
     "prompt_number": 161
    },
    {
     "cell_type": "code",
     "collapsed": false,
     "input": [
      "#Fazendo a Decomposi\u00e7\u00e3o em Valores Singulares:\n",
      "\n",
      "U,s,V=np.linalg.svd(A, full_matrices=True)\n",
      "V=V.T\n",
      "#Separando os valores n\u00e3o nulos:\n",
      "\n",
      "Ur=U[:,:7]\n",
      "sr=s[:7]\n",
      "Vr=V[:,:7]\n",
      "plt.plot(s)\n",
      "print(Vr.shape)"
     ],
     "language": "python",
     "metadata": {},
     "outputs": [
      {
       "output_type": "stream",
       "stream": "stdout",
       "text": [
        "(9, 7)\n"
       ]
      },
      {
       "output_type": "display_data",
       "png": "[encoded data removed]"
      }
     ],
     "prompt_number": 162
    },
    {
     "cell_type": "code",
     "collapsed": false,
     "input": [
      "#Calculando a nova matriz sensibilidade:\n",
      "\n",
      "Ar=(np.dot(np.dot(U,np.diag(s)),V.T))\n",
      "print(Ar)"
     ],
     "language": "python",
     "metadata": {},
     "outputs": [
      {
       "output_type": "stream",
       "stream": "stdout",
       "text": [
        "[[  1.41421356e+01   4.88498131e-15  -4.99600361e-15  -9.99200722e-16\n",
        "    1.41421356e+01  -2.22044605e-15   2.10942375e-15   3.05311332e-16\n",
        "    1.41421356e+01]\n",
        " [  1.00000000e+01  -2.02052398e-16   1.42804438e-15   1.00000000e+01\n",
        "    3.30811767e-15   7.16449850e-15   1.00000000e+01  -1.95420888e-15\n",
        "   -1.34031219e-16]\n",
        " [ -1.24680867e-15   1.00000000e+01   1.32743042e-15  -7.08123178e-15\n",
        "    1.00000000e+01  -1.12054082e-15  -2.41683677e-15   1.00000000e+01\n",
        "    2.45070676e-15]\n",
        " [ -1.59201864e-15  -2.47588890e-16   1.00000000e+01  -5.54166469e-15\n",
        "   -6.69473157e-15   1.00000000e+01  -4.78283281e-16   5.40231970e-15\n",
        "    1.00000000e+01]\n",
        " [ -1.19869392e-15   2.16840434e-16   1.41421356e+01   5.53897206e-15\n",
        "    1.41421356e+01  -1.75033599e-15   1.41421356e+01  -8.84275292e-16\n",
        "   -3.39485384e-15]\n",
        " [  1.00000000e+01   1.00000000e+01   1.00000000e+01   5.79488188e-16\n",
        "    1.83533744e-15  -3.43565796e-16   9.19266666e-15   3.04534995e-15\n",
        "    5.18554598e-15]\n",
        " [  8.00000000e+00   2.27595720e-15  -3.66373598e-15   4.00000000e+00\n",
        "    1.20000000e+01   2.22044605e-15  -3.83026943e-15  -2.94209102e-15\n",
        "    1.10000000e+01]\n",
        " [  3.55746034e-15   1.13186418e-15  -2.30234502e-15   1.00000000e+01\n",
        "    1.00000000e+01   1.00000000e+01   2.99623441e-15  -3.98374958e-15\n",
        "   -3.98767176e-15]\n",
        " [ -2.17927020e-15   1.57551971e-15  -5.28423490e-17  -3.95160953e-15\n",
        "   -2.66973943e-15  -1.81114186e-15   1.00000000e+01   1.00000000e+01\n",
        "    1.00000000e+01]]\n"
       ]
      }
     ],
     "prompt_number": 163
    },
    {
     "cell_type": "code",
     "collapsed": false,
     "input": [
      "#Calculando a regulariza\u00e7\u00e3o atrav\u00e9s da decomposi\u00e7\u00e3o em valores singulares:\n",
      "\n",
      "beta=np.dot(Ur.T,yobs)\n",
      "\n",
      "ps=sum(Vr[:,i]*sr[i]/(sr[i]**2+ur)*beta[i] for i in xrange(len(sr)))\n",
      "print(ps)\n",
      "print(pt)\n",
      "\n",
      "plt.figure(figsize=(10,2))\n",
      "plt.subplot(1, 3, 1)\n",
      "plt.axis('scaled')\n",
      "plt.pcolor(np.reshape(pt,(3,3)),vmin=1,vmax=10)\n",
      "plt.colorbar()\n",
      "plt.xlim(0,3)\n",
      "plt.ylim(0,3)\n",
      "plt.subplot(1, 3, 2)\n",
      "plt.axis('scaled')\n",
      "plt.pcolor(np.reshape(p,(3,3)),vmin=1,vmax=10)\n",
      "plt.colorbar()\n",
      "plt.xlim(0,3)\n",
      "plt.ylim(0,3)\n",
      "plt.subplot(1, 3, 3)\n",
      "plt.axis('scaled')\n",
      "plt.pcolor(np.reshape(ps,(3,3)),vmin=1,vmax=10)\n",
      "plt.colorbar()\n",
      "plt.xlim(0,3)\n",
      "plt.ylim(0,3)"
     ],
     "language": "python",
     "metadata": {},
     "outputs": [
      {
       "output_type": "stream",
       "stream": "stdout",
       "text": [
        "[ 2.87987515  3.09506434  3.10544198  3.23887858  9.99327028  2.82581507\n",
        "  2.95158525  2.97967179  3.14159255]\n",
        "[3, 3, 3, 3, 10, 3, 3, 3, 3]\n"
       ]
      },
      {
       "output_type": "pyout",
       "prompt_number": 164,
       "text": [
        "(0, 3)"
       ]
      },
      {
       "output_type": "display_data",
       "png": "[encoded data removed]"
      }
     ],
     "prompt_number": 164
    },
    {
     "cell_type": "code",
     "collapsed": false,
     "input": [],
     "language": "python",
     "metadata": {},
     "outputs": []
    }
   ],
   "metadata": {}
  }
 ]
}