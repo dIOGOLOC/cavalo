{
 "metadata": {
  "name": "Projeto Tomografia"
 },
 "nbformat": 3,
 "nbformat_minor": 0,
 "worksheets": [
  {
   "cells": [
    {
     "cell_type": "code",
     "collapsed": false,
     "input": [
      "%pylab inline"
     ],
     "language": "python",
     "metadata": {},
     "outputs": [
      {
       "output_type": "stream",
       "stream": "stdout",
       "text": [
        "\n",
        "Welcome to pylab, a matplotlib-based Python environment [backend: module://IPython.zmq.pylab.backend_inline].\n",
        "For more information, type 'help(pylab)'.\n"
       ]
      }
     ],
     "prompt_number": 92
    },
    {
     "cell_type": "code",
     "collapsed": false,
     "input": [
      "from __future__ import print_function\n",
      "import numpy as np\n",
      "import matplotlib.pyplot as plt"
     ],
     "language": "python",
     "metadata": {},
     "outputs": [],
     "prompt_number": 93
    },
    {
     "cell_type": "code",
     "collapsed": false,
     "input": [
      "#Sendo pt=par\u00e2metros verdadeiros\n",
      "\n",
      "pt=[8,8,8,9,9,9,10,10,10]"
     ],
     "language": "python",
     "metadata": {},
     "outputs": [],
     "prompt_number": 94
    },
    {
     "cell_type": "code",
     "collapsed": false,
     "input": [
      "#Declarando as vari\u00e1veis:\n",
      "\n",
      "v=1 #Tamanho da C\u00e9lula\n",
      "e=sqrt(2)\n",
      "\n",
      "#Preenchendo a matriz sensibilidade (A):\n",
      "\n",
      "A=np.array([[e*v,0,0,0,e*v,0,0,0,e*v],[v,0,0,v,0,0,v,0,0],[0,v,0,0,v,0,0,v,0],[0,0,v,0,0,v,0,0,v],[0,0,e*v,0,e*v,0,e*v,0,0],[v,v,v,0,0,0,0,0,0],[0.8*v,0,0,0.4*v,1.2*v,0,0,0,1.1*v],[0,0,0,v,v,v,0,0,0],[0,0,0,0,0,0,v,v,v]])\n",
      "\n",
      "#Matriz Identidade(I):\n",
      "\n",
      "I=np.identity(len(A))\n",
      "\n",
      "#Preenchendo a matriz de intera\u00e7\u00e3o entre os quadrados (W):\n",
      "\n",
      "R=np.array([[-1,1,0,0,0,0,0,0,0],[0,1,-1,0,0,0,0,0,0],[0,0,0,1,-1,0,0,0,0],[0,0,0,0,1,-1,0,0,0],[0,0,0,0,0,0,1,-1,0],[0,0,0,0,0,0,0,1,-1],[1,0,0,-1,0,0,0,0,0],[0,1,0,0,-1,0,0,0,0],[0,0,1,0,0,-1,0,0,0],[0,0,0,1,0,0,-1,0,0],[0,0,0,0,1,0,0,-1,0],[0,0,0,0,0,1,0,0,-1]])\n",
      "\n",
      "W=np.dot(R.T,R)"
     ],
     "language": "python",
     "metadata": {},
     "outputs": [],
     "prompt_number": 95
    },
    {
     "cell_type": "code",
     "collapsed": false,
     "input": [
      "#Calculando os dados pelo modelo Direto:\n",
      "#yc=dados calculados\n",
      "\n",
      "yc=np.dot(A,pt)\n",
      "\n",
      "#Contaminando os dados com dados esp\u00f3rios:\n",
      "mod_yc=max(0.02*yc)\n",
      "\n",
      "yr=yc+np.random.uniform(0,mod_yc)\n",
      "\n",
      "\n",
      "print(yc)\n",
      "print(yr)"
     ],
     "language": "python",
     "metadata": {},
     "outputs": [
      {
       "output_type": "stream",
       "stream": "stdout",
       "text": [
        "[ 38.18376618  27.          27.          27.          38.18376618  24.\n",
        "  31.8         27.          30.        ]\n",
        "[ 38.53201071  27.34824452  27.34824452  27.34824452  38.53201071\n",
        "  24.34824452  32.14824452  27.34824452  30.34824452]\n"
       ]
      }
     ],
     "prompt_number": 96
    },
    {
     "cell_type": "code",
     "collapsed": false,
     "input": [
      "#Contruindo os estimador para os m\u00e9todos:\n",
      "#p=par\u00e2metros\n",
      "#ur=regularizador tikonov de ordem 0\n",
      "#us=regularizador tikonov de ordem 1\n",
      "\n",
      "ur=0.001\n",
      "us=0.00000001\n",
      "\n",
      "p=np.linalg.solve((np.dot(A.T,A)+ur*I+us*W),np.dot(A.T,yr))"
     ],
     "language": "python",
     "metadata": {},
     "outputs": [],
     "prompt_number": 97
    },
    {
     "cell_type": "code",
     "collapsed": false,
     "input": [
      "#Plotando os par\u00e2metros calculados:\n",
      "print(p)"
     ],
     "language": "python",
     "metadata": {},
     "outputs": [
      {
       "output_type": "stream",
       "stream": "stdout",
       "text": [
        "[  8.05285295   8.16697009   8.12481164   9.21907643   9.04970404\n",
        "   9.07495931  10.07175801  10.12701326  10.14390335]\n"
       ]
      }
     ],
     "prompt_number": 98
    },
    {
     "cell_type": "code",
     "collapsed": false,
     "input": [
      "#Calculando o posto(rank):\n",
      "\n",
      "rank=len(A)-np.rank(A)\n",
      "print(rank)"
     ],
     "language": "python",
     "metadata": {},
     "outputs": [
      {
       "output_type": "stream",
       "stream": "stdout",
       "text": [
        "7\n"
       ]
      }
     ],
     "prompt_number": 99
    },
    {
     "cell_type": "code",
     "collapsed": false,
     "input": [
      "#Fazendo a Decomposi\u00e7\u00e3o em Valores Singulares:\n",
      "\n",
      "U,s,V=np.linalg.svd(A, full_matrices=True)\n",
      "print(U.shape, V.shape, s.shape)\n",
      "#Separando os valores n\u00e3o nulos:\n",
      "\n",
      "Ur=U[:7,:7]\n",
      "sr=s[:7]\n",
      "Vr=V[:7,:7]"
     ],
     "language": "python",
     "metadata": {},
     "outputs": [
      {
       "output_type": "stream",
       "stream": "stdout",
       "text": [
        "(9, 9) (9, 9) (9,)\n"
       ]
      }
     ],
     "prompt_number": 102
    },
    {
     "cell_type": "code",
     "collapsed": false,
     "input": [
      "#Calculando a nova matriz sensibilidade:\n",
      "\n",
      "Ar=(np.dot(np.dot(Ur,sr),Vr.T))\n",
      "print(Ar)"
     ],
     "language": "python",
     "metadata": {},
     "outputs": [
      {
       "output_type": "stream",
       "stream": "stdout",
       "text": [
        "[ 1.96240077 -0.36730219 -0.72495158 -1.08770394  2.66516406 -0.22254111\n",
        "  2.23182188]\n"
       ]
      }
     ],
     "prompt_number": 101
    },
    {
     "cell_type": "code",
     "collapsed": false,
     "input": [],
     "language": "python",
     "metadata": {},
     "outputs": [],
     "prompt_number": 91
    },
    {
     "cell_type": "code",
     "collapsed": false,
     "input": [],
     "language": "python",
     "metadata": {},
     "outputs": []
    }
   ],
   "metadata": {}
  }
 ]
}