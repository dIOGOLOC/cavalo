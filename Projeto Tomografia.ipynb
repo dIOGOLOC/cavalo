{
 "metadata": {
  "name": "Projeto Tomografia"
 },
 "nbformat": 3,
 "nbformat_minor": 0,
 "worksheets": [
  {
   "cells": [
    {
     "cell_type": "code",
     "collapsed": false,
     "input": [
      "%pylab inline"
     ],
     "language": "python",
     "metadata": {},
     "outputs": [
      {
       "output_type": "stream",
       "stream": "stdout",
       "text": [
        "\n",
        "Welcome to pylab, a matplotlib-based Python environment [backend: module://IPython.zmq.pylab.backend_inline].\n",
        "For more information, type 'help(pylab)'.\n"
       ]
      }
     ],
     "prompt_number": 1
    },
    {
     "cell_type": "code",
     "collapsed": false,
     "input": [
      "from __future__ import print_function\n",
      "import numpy as np\n",
      "import matplotlib.pyplot as plt"
     ],
     "language": "python",
     "metadata": {},
     "outputs": [],
     "prompt_number": 2
    },
    {
     "cell_type": "code",
     "collapsed": false,
     "input": [
      "#Declarando as vari\u00e1veis:\n",
      "\n",
      "v=1 #Tamanho da C\u00e9lula\n",
      "e=sqrt(2)\n",
      "\n",
      "#Preenchendo a matriz sensibilidade (A):\n",
      "\n",
      "A=np.array([[e*v,0,0,0,e*v,0,0,0,e*v],[v,0,0,v,0,0,v,0,0],[0,v,0,0,v,0,0,v,0],[0,0,v,0,0,v,0,0,v],[0,0,e*v,0,e*v,0,e*v,0,0],[v,v,v,0,0,0,0,0,0],[0.8*v,0,0,0.4*v,1.2*v,0,0,0,1.1*v],[0,0,0,v,v,v,0,0,0],[0,0,0,0,0,0,v,v,v]])\n",
      "\n",
      "#Preenchendo a matriz de diferen\u00e7as finitas (W):\n",
      "\n",
      "R=np.array([[-1,1,0,0,0,0,0,0,0],[0,1,-1,0,0,0,0,0,0],[0,0,0,1,-1,0,0,0,0],[0,0,0,0,1,-1,0,0,0],[0,0,0,0,0,0,1,-1,0],[0,0,0,0,0,0,0,1,-1],[1,0,0,-1,0,0,0,0,0],[0,1,0,0,-1,0,0,0,0],[0,0,1,0,0,-1,0,0,0],[0,0,0,1,0,0,-1,0,0],[0,0,0,0,1,0,0,-1,0],[0,0,0,0,0,1,0,0,-1]])\n",
      "\n",
      "W=np.dot(R.T,R)"
     ],
     "language": "python",
     "metadata": {},
     "outputs": [],
     "prompt_number": 25
    },
    {
     "cell_type": "code",
     "collapsed": false,
     "input": [],
     "language": "python",
     "metadata": {},
     "outputs": []
    }
   ],
   "metadata": {}
  }
 ]
}