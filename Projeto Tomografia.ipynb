{
 "metadata": {
  "name": "Projeto Tomografia"
 },
 "nbformat": 3,
 "nbformat_minor": 0,
 "worksheets": [
  {
   "cells": [
    {
     "cell_type": "code",
     "collapsed": false,
     "input": [
      "%pylab inline"
     ],
     "language": "python",
     "metadata": {},
     "outputs": [
      {
       "output_type": "stream",
       "stream": "stdout",
       "text": [
        "\n",
        "Welcome to pylab, a matplotlib-based Python environment [backend: module://IPython.zmq.pylab.backend_inline].\n",
        "For more information, type 'help(pylab)'.\n"
       ]
      }
     ],
     "prompt_number": 47
    },
    {
     "cell_type": "code",
     "collapsed": false,
     "input": [
      "from __future__ import print_function\n",
      "import numpy as np\n",
      "import matplotlib.pyplot as plt"
     ],
     "language": "python",
     "metadata": {},
     "outputs": [],
     "prompt_number": 48
    },
    {
     "cell_type": "code",
     "collapsed": false,
     "input": [
      "#Sendo pt=par\u00e2metros verdadeiros\n",
      "\n",
      "pt=[6,7,8,9,7,9,8,9,10]\n",
      "plt.pcolor(np.reshape(pt,(3,3)))"
     ],
     "language": "python",
     "metadata": {},
     "outputs": [
      {
       "output_type": "pyout",
       "prompt_number": 76,
       "text": [
        "<matplotlib.collections.PolyCollection at 0x5961bd0>"
       ]
      },
      {
       "output_type": "display_data",
       "png": "[encoded data removed]"
      }
     ],
     "prompt_number": 76
    },
    {
     "cell_type": "code",
     "collapsed": false,
     "input": [
      "#Declarando as vari\u00e1veis:\n",
      "\n",
      "v=1 #Tamanho da C\u00e9lula\n",
      "e=sqrt(2)\n",
      "\n",
      "#Preenchendo a matriz sensibilidade (A):\n",
      "\n",
      "A=np.array([[e*v,0,0,0,e*v,0,0,0,e*v],[v,0,0,v,0,0,v,0,0],[0,v,0,0,v,0,0,v,0],[0,0,v,0,0,v,0,0,v],[0,0,e*v,0,e*v,0,e*v,0,0],[v,v,v,0,0,0,0,0,0],[0.8*v,0,0,0.4*v,1.2*v,0,0,0,1.1*v],[0,0,0,v,v,v,0,0,0],[0,0,0,0,0,0,v,v,v]])\n",
      "print(A)\n",
      "#Matriz Identidade(I):\n",
      "\n",
      "I=np.identity(len(A))\n",
      "\n",
      "#Preenchendo a matriz de intera\u00e7\u00e3o entre os quadrados (W):\n",
      "\n",
      "R=np.array([[-1,1,0,0,0,0,0,0,0],[0,1,-1,0,0,0,0,0,0],[0,0,0,1,-1,0,0,0,0],[0,0,0,0,1,-1,0,0,0],[0,0,0,0,0,0,1,-1,0],[0,0,0,0,0,0,0,1,-1],[1,0,0,-1,0,0,0,0,0],[0,1,0,0,-1,0,0,0,0],[0,0,1,0,0,-1,0,0,0],[0,0,0,1,0,0,-1,0,0],[0,0,0,0,1,0,0,-1,0],[0,0,0,0,0,1,0,0,-1]])\n",
      "\n",
      "W=np.dot(R.T,R)"
     ],
     "language": "python",
     "metadata": {},
     "outputs": [
      {
       "output_type": "stream",
       "stream": "stdout",
       "text": [
        "[[ 1.41421356  0.          0.          0.          1.41421356  0.          0.\n",
        "   0.          1.41421356]\n",
        " [ 1.          0.          0.          1.          0.          0.          1.\n",
        "   0.          0.        ]\n",
        " [ 0.          1.          0.          0.          1.          0.          0.\n",
        "   1.          0.        ]\n",
        " [ 0.          0.          1.          0.          0.          1.          0.\n",
        "   0.          1.        ]\n",
        " [ 0.          0.          1.41421356  0.          1.41421356  0.\n",
        "   1.41421356  0.          0.        ]\n",
        " [ 1.          1.          1.          0.          0.          0.          0.\n",
        "   0.          0.        ]\n",
        " [ 0.8         0.          0.          0.4         1.2         0.          0.\n",
        "   0.          1.1       ]\n",
        " [ 0.          0.          0.          1.          1.          1.          0.\n",
        "   0.          0.        ]\n",
        " [ 0.          0.          0.          0.          0.          0.          1.\n",
        "   1.          1.        ]]\n"
       ]
      }
     ],
     "prompt_number": 99
    },
    {
     "cell_type": "code",
     "collapsed": false,
     "input": [
      "#Calculando os dados pelo modelo Direto:\n",
      "#yc=dados calculados\n",
      "\n",
      "yc=np.dot(A,pt)\n",
      "\n",
      "#Contaminando os dados com dados esp\u00f3rios:\n",
      "mod_yc=max(0.02*yc)\n",
      "\n",
      "yobs=yc+np.random.uniform(0,mod_yc)\n",
      "\n",
      "\n",
      "print(yc)\n",
      "print(yobs)"
     ],
     "language": "python",
     "metadata": {},
     "outputs": [
      {
       "output_type": "stream",
       "stream": "stdout",
       "text": [
        "[ 32.52691193  23.          23.          27.          32.52691193  21.\n",
        "  27.8         25.          27.        ]\n",
        "[ 33.13844687  23.61153494  23.61153494  27.61153494  33.13844687\n",
        "  21.61153494  28.41153494  25.61153494  27.61153494]\n"
       ]
      }
     ],
     "prompt_number": 78
    },
    {
     "cell_type": "code",
     "collapsed": false,
     "input": [
      "#Contruindo os estimador para os m\u00e9todos:\n",
      "#p=par\u00e2metros\n",
      "#ur=regularizador tikonov de ordem 0\n",
      "#us=regularizador tikonov de ordem 1\n",
      "\n",
      "ur=0.01\n",
      "us=0.000001\n",
      "\n",
      "p=np.linalg.solve((np.dot(A.T,A)+ur*I+us*W),np.dot(A.T,yobs))"
     ],
     "language": "python",
     "metadata": {},
     "outputs": [],
     "prompt_number": 79
    },
    {
     "cell_type": "code",
     "collapsed": false,
     "input": [
      "#Plotando os par\u00e2metros calculados:\n",
      "print(p)\n",
      "plt.pcolor(np.reshape(p,(3,3)))"
     ],
     "language": "python",
     "metadata": {},
     "outputs": [
      {
       "output_type": "stream",
       "stream": "stdout",
       "text": [
        "[  6.08834835   7.41552874   8.07149731   9.2299795    7.10968106\n",
        "   9.23204146   8.25521003   9.0483294   10.25550642]\n"
       ]
      },
      {
       "output_type": "pyout",
       "prompt_number": 80,
       "text": [
        "<matplotlib.collections.PolyCollection at 0x5c9ff90>"
       ]
      },
      {
       "output_type": "display_data",
       "png": "[encoded data removed]"
      }
     ],
     "prompt_number": 80
    },
    {
     "cell_type": "code",
     "collapsed": false,
     "input": [
      "#Calculando o posto(rank):\n",
      "\n",
      "rank=len(A)-np.rank(A)\n",
      "print(rank)"
     ],
     "language": "python",
     "metadata": {},
     "outputs": [
      {
       "output_type": "stream",
       "stream": "stdout",
       "text": [
        "7\n"
       ]
      }
     ],
     "prompt_number": 81
    },
    {
     "cell_type": "code",
     "collapsed": false,
     "input": [
      "#Fazendo a Decomposi\u00e7\u00e3o em Valores Singulares:\n",
      "\n",
      "U,s,V=np.linalg.svd(A, full_matrices=True)\n",
      "V=V.T\n",
      "#Separando os valores n\u00e3o nulos:\n",
      "\n",
      "Ur=U[:,:7]\n",
      "sr=s[:7]\n",
      "Vr=V[:,:7]\n",
      "plt.plot(s)\n",
      "print(Vr.shape)"
     ],
     "language": "python",
     "metadata": {},
     "outputs": [
      {
       "output_type": "stream",
       "stream": "stdout",
       "text": [
        "(9, 7)\n"
       ]
      },
      {
       "output_type": "display_data",
       "png": "[encoded data removed]"
      }
     ],
     "prompt_number": 100
    },
    {
     "cell_type": "code",
     "collapsed": false,
     "input": [
      "#Calculando a nova matriz sensibilidade:\n",
      "\n",
      "Ar=(np.dot(np.dot(U,np.diag(s)),V.T))\n",
      "print(Ar)"
     ],
     "language": "python",
     "metadata": {},
     "outputs": [
      {
       "output_type": "stream",
       "stream": "stdout",
       "text": [
        "[[  1.41421356e+00   7.56339436e-16  -6.38378239e-16   3.60822483e-16\n",
        "    1.41421356e+00  -5.13478149e-16   3.78169718e-16   4.71844785e-16\n",
        "    1.41421356e+00]\n",
        " [  1.00000000e+00  -1.16719574e-16   4.33560980e-16   1.00000000e+00\n",
        "    1.96186383e-16   6.03982968e-16   1.00000000e+00  -3.03300347e-16\n",
        "    3.63245259e-16]\n",
        " [  5.09199713e-17   1.00000000e+00  -2.06551983e-16   1.22866168e-16\n",
        "    1.00000000e+00   3.30764021e-16  -3.95613904e-16   1.00000000e+00\n",
        "    1.59848931e-16]\n",
        " [ -4.53696981e-18  -6.25969335e-16   1.00000000e+00   3.96301956e-16\n",
        "    4.06480947e-16   1.00000000e+00  -3.60539964e-16  -4.22156010e-16\n",
        "    1.00000000e+00]\n",
        " [  1.46367293e-16  -6.25042552e-17   1.41421356e+00  -2.77338916e-16\n",
        "    1.41421356e+00   8.33100949e-16   1.41421356e+00   6.84673672e-16\n",
        "   -5.34728511e-16]\n",
        " [  1.00000000e+00   1.00000000e+00   1.00000000e+00   2.12802824e-16\n",
        "    9.69385162e-16  -6.53513290e-17   7.23048161e-17  -1.24525830e-16\n",
        "    7.99765895e-17]\n",
        " [  8.00000000e-01   4.71844785e-16   8.32667268e-17   4.00000000e-01\n",
        "    1.20000000e+00   3.46944695e-16  -4.64905892e-16  -9.71445147e-17\n",
        "    1.10000000e+00]\n",
        " [  1.12577716e-16   3.19248540e-16  -4.70857535e-16   1.00000000e+00\n",
        "    1.00000000e+00   1.00000000e+00   4.38765150e-16   2.64485909e-16\n",
        "    1.71916934e-16]\n",
        " [  3.88644850e-18  -6.29021785e-16   3.55521361e-16  -9.34842893e-17\n",
        "    5.11519809e-16  -3.54724889e-16   1.00000000e+00   1.00000000e+00\n",
        "    1.00000000e+00]]\n"
       ]
      }
     ],
     "prompt_number": 101
    },
    {
     "cell_type": "code",
     "collapsed": false,
     "input": [
      "#Calculando a regulariza\u00e7\u00e3o atrav\u00e9s da decomposi\u00e7\u00e3o em valores singulares:\n",
      "\n",
      "beta=np.dot(Ur.T,yobs)\n",
      "\n",
      "ps=sum(Vr[:,i]*sr[i]/(sr[i]**2+ur)*beta[i] for i in xrange(len(sr)))\n",
      "print(ps)\n",
      "print(pt)\n",
      "\n",
      "plt.figure(figsize=(10,2))\n",
      "plt.subplot(1, 3, 1)\n",
      "plt.axis('scaled')\n",
      "plt.pcolor(np.reshape(pt,(3,3)),vmin=6,vmax=10)\n",
      "plt.colorbar()\n",
      "plt.xlim(0,3)\n",
      "plt.ylim(0,3)\n",
      "plt.subplot(1, 3, 2)\n",
      "plt.axis('scaled')\n",
      "plt.pcolor(np.reshape(p,(3,3)),vmin=6,vmax=10)\n",
      "plt.colorbar()\n",
      "plt.xlim(0,3)\n",
      "plt.ylim(0,3)\n",
      "plt.subplot(1, 3, 3)\n",
      "plt.axis('scaled')\n",
      "plt.pcolor(np.reshape(ps,(3,3)),vmin=6,vmax=10)\n",
      "plt.colorbar()\n",
      "plt.xlim(0,3)\n",
      "plt.ylim(0,3)"
     ],
     "language": "python",
     "metadata": {},
     "outputs": [
      {
       "output_type": "stream",
       "stream": "stdout",
       "text": [
        "[ 6.49960658  7.22833452  7.82483954  8.62844024  7.15867358  9.82566115\n",
        "  8.45473098  9.19576971  9.90982766]\n",
        "[6, 7, 8, 9, 7, 9, 8, 9, 10]\n"
       ]
      },
      {
       "output_type": "pyout",
       "prompt_number": 112,
       "text": [
        "(0, 3)"
       ]
      },
      {
       "output_type": "display_data",
       "png": "[encoded data removed]"
      }
     ],
     "prompt_number": 112
    },
    {
     "cell_type": "code",
     "collapsed": false,
     "input": [],
     "language": "python",
     "metadata": {},
     "outputs": []
    }
   ],
   "metadata": {}
  }
 ]
}