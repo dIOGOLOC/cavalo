{
 "metadata": {
  "name": "Norma L1xL2"
 },
 "nbformat": 3,
 "nbformat_minor": 0,
 "worksheets": [
  {
   "cells": [
    {
     "cell_type": "code",
     "collapsed": false,
     "input": [
      "%pylab inline"
     ],
     "language": "python",
     "metadata": {},
     "outputs": [
      {
       "output_type": "stream",
       "stream": "stdout",
       "text": [
        "\n",
        "Welcome to pylab, a matplotlib-based Python environment [backend: module://IPython.zmq.pylab.backend_inline].\n",
        "For more information, type 'help(pylab)'.\n"
       ]
      }
     ],
     "prompt_number": 1
    },
    {
     "cell_type": "code",
     "collapsed": false,
     "input": [
      "from __future__ import print_function\n",
      "import numpy as np\n",
      "import matplotlib.pyplot as plt"
     ],
     "language": "python",
     "metadata": {},
     "outputs": [],
     "prompt_number": 2
    },
    {
     "cell_type": "code",
     "collapsed": false,
     "input": [
      "#Exerc\u00edcio pr\u00e1tico numero 2: Norma L1xL2\n",
      "\n",
      "#Sendo: x= posi\u00e7\u00e3o, pt=par\u00e2metros verdadeiros\n",
      "\n",
      "x=np.linspace(1,100,100)\n",
      "n=len(x)\n",
      "\n",
      "pt=[2,30]\n",
      "\n",
      "#Matriz Sensibilidade\n",
      "\n",
      "a=np.array([x,np.ones(n)]).T\n",
      "\n",
      "#Calculando os dados pelo modelo Direto:\n",
      "#yc=dados calculados\n",
      "\n",
      "yc=np.dot(a,pt)\n",
      "\n",
      "#Estabelecendo valores para os outliers:\n",
      "\n",
      "out=10\n",
      "\n",
      "#Contaminando os dados com dados esp\u00f3rios:S\n",
      "\n",
      "yc[np.random.randint(0,len(yc),out)] += np.random.uniform(200,300,out)\n",
      "plt.plot(x,yc)\n",
      "\n"
     ],
     "language": "python",
     "metadata": {},
     "outputs": [
      {
       "output_type": "pyout",
       "prompt_number": 3,
       "text": [
        "[<matplotlib.lines.Line2D at 0x5569e90>]"
       ]
      },
      {
       "output_type": "display_data",
       "png": "[encoded data removed]"
      }
     ],
     "prompt_number": 3
    },
    {
     "cell_type": "code",
     "collapsed": false,
     "input": [
      "#Gerando Ruido Aleat\u00f3rio(r) distribu\u00eddo uniformemente com 0.02% da m\u00e9dia dos dados calculados(ymed):\n",
      "\n",
      "ymed=(np.amax(yc)-np.amin(yc))/2\n",
      "\n",
      "r=np.random.normal(scale=0.05*ymed, size=len(yc))"
     ],
     "language": "python",
     "metadata": {},
     "outputs": [],
     "prompt_number": 4
    },
    {
     "cell_type": "code",
     "collapsed": false,
     "input": [
      "#Calculando os dados observados(dados calculados somados aos res\u00edduos aleat\u00f3rios):\n",
      "\n",
      "yobs=yc+r"
     ],
     "language": "python",
     "metadata": {},
     "outputs": [],
     "prompt_number": 5
    },
    {
     "cell_type": "code",
     "collapsed": false,
     "input": [
      "#Calculando os par\u00e2metros(pl2) atrav\u00e9s da Norma L2:\n",
      "#Multiplica\u00e7\u00e3o da inv(a.T*a)*a.T*yobs\n",
      "\n",
      "b=np.linalg.inv(np.dot(a.T,a))\n",
      "c=np.dot(b,a.T)\n",
      "pl2=np.dot(c,yobs)\n",
      "print(pl2)"
     ],
     "language": "python",
     "metadata": {},
     "outputs": [
      {
       "output_type": "stream",
       "stream": "stdout",
       "text": [
        "[  2.37910064  36.249106  ]\n"
       ]
      }
     ],
     "prompt_number": 6
    },
    {
     "cell_type": "code",
     "collapsed": false,
     "input": [
      "#Fazendo a invers\u00e3o dos dados utilizando os par\u00e2metros calculados com a Norma L2:\n",
      "#Multilica\u00e7\u00e3o da matriz sensibilidaade(a) pelo par\u00e2metros da Norma L2(pl2):\n",
      "\n",
      "y2=np.dot(a,pl2)\n",
      "print(y2)"
     ],
     "language": "python",
     "metadata": {},
     "outputs": [
      {
       "output_type": "stream",
       "stream": "stdout",
       "text": [
        "[  38.62820664   41.00730728   43.38640792   45.76550856   48.1446092\n",
        "   50.52370984   52.90281048   55.28191113   57.66101177   60.04011241\n",
        "   62.41921305   64.79831369   67.17741433   69.55651497   71.93561561\n",
        "   74.31471625   76.69381689   79.07291753   81.45201817   83.83111881\n",
        "   86.21021945   88.58932009   90.96842073   93.34752137   95.72662201\n",
        "   98.10572265  100.48482329  102.86392393  105.24302457  107.62212521\n",
        "  110.00122585  112.38032649  114.75942713  117.13852777  119.51762841\n",
        "  121.89672905  124.27582969  126.65493033  129.03403098  131.41313162\n",
        "  133.79223226  136.1713329   138.55043354  140.92953418  143.30863482\n",
        "  145.68773546  148.0668361   150.44593674  152.82503738  155.20413802\n",
        "  157.58323866  159.9623393   162.34143994  164.72054058  167.09964122\n",
        "  169.47874186  171.8578425   174.23694314  176.61604378  178.99514442\n",
        "  181.37424506  183.7533457   186.13244634  188.51154698  190.89064762\n",
        "  193.26974826  195.6488489   198.02794954  200.40705018  202.78615083\n",
        "  205.16525147  207.54435211  209.92345275  212.30255339  214.68165403\n",
        "  217.06075467  219.43985531  221.81895595  224.19805659  226.57715723\n",
        "  228.95625787  231.33535851  233.71445915  236.09355979  238.47266043\n",
        "  240.85176107  243.23086171  245.60996235  247.98906299  250.36816363\n",
        "  252.74726427  255.12636491  257.50546555  259.88456619  262.26366683\n",
        "  264.64276747  267.02186811  269.40096875  271.78006939  274.15917003]\n"
       ]
      }
     ],
     "prompt_number": 7
    },
    {
     "cell_type": "code",
     "collapsed": false,
     "input": [
      "#Calculando a Norma L2:\n",
      "\n",
      "norma2=np.linalg.norm(yobs-y2,2)/len(y2)\n",
      "print(norma2)\n"
     ],
     "language": "python",
     "metadata": {},
     "outputs": [
      {
       "output_type": "stream",
       "stream": "stdout",
       "text": [
        "7.59933352704\n"
       ]
      }
     ],
     "prompt_number": 8
    },
    {
     "cell_type": "code",
     "collapsed": false,
     "input": [
      "#Calculando a Norma L1\n",
      "#Calcula-se o res\u00edduo e estipula-se uma toler\u00e2ncia para o res\u00edduo(tolrs) e outra para o ajuste(tolx).\n",
      "#Para assim fazer um calculo interativo do peso. (M\u00ednimos reponderados)\n",
      "\n",
      "tolrs=0.000005\n",
      "tolx=0.000005\n",
      "rs=y2-yobs\n",
      "norma1=np.linalg.norm(rs)\n",
      "\n",
      "for i in range(len(y2)):\n",
      "    w=1./tolrs*np.ones_like(rs)\n",
      "    w[np.abs(rs)>=tolrs]=np.abs(1./rs[np.abs(rs)>=tolrs])\n",
      "    W=np.diag(w)\n",
      "    pl1a=np.dot(W,a)\n",
      "    pl1b=np.linalg.inv(np.dot(a.T,pl1a))\n",
      "    pl1c=np.dot(pl1b,a.T)\n",
      "    pl1d=np.dot(pl1c,W)\n",
      "    pl1=np.dot(pl1d,yobs)\n",
      "    y1=np.dot(a,pl1)\n",
      "    rs=y1-yobs\n",
      "    if abs(np.linalg.norm(rs,1)-norma1)/norma1 < tolx:\n",
      "        break\n",
      "    norm1=np.linalg.norm(rs,1)"
     ],
     "language": "python",
     "metadata": {},
     "outputs": [],
     "prompt_number": 9
    },
    {
     "cell_type": "code",
     "collapsed": false,
     "input": [
      "#Fazendo o gr\u00e1fico comparando as normas L1 e L2:\n",
      "plt.plot(x,yobs,'.r',x,y1,'--k',x,y2,'-g')\n",
      "plt.legend(('yobs', 'y L1', 'y L2'),'lower right', fancybox=True)\n",
      "plt.xlabel('x')\n",
      "plt.ylabel('y')\n",
      "\n",
      "\n"
     ],
     "language": "python",
     "metadata": {},
     "outputs": [
      {
       "output_type": "pyout",
       "prompt_number": 10,
       "text": [
        "<matplotlib.text.Text at 0x56730d0>"
       ]
      },
      {
       "output_type": "display_data",
       "png": "[encoded data removed]"
      }
     ],
     "prompt_number": 10
    },
    {
     "cell_type": "code",
     "collapsed": false,
     "input": [
      "#Calculando a Norma L1:\n",
      "norma1=np.linalg.norm(yobs-y2,1)/len(y2)\n",
      "print(norma1)\n"
     ],
     "language": "python",
     "metadata": {},
     "outputs": [
      {
       "output_type": "stream",
       "stream": "stdout",
       "text": [
        "45.1871195362\n"
       ]
      }
     ],
     "prompt_number": 11
    },
    {
     "cell_type": "code",
     "collapsed": false,
     "input": [
      "#Comparandos os Par\u00e2metros estimados pela Norma L1 e L2:\n",
      "\n",
      "print(pl1)\n",
      "print(pl2)"
     ],
     "language": "python",
     "metadata": {},
     "outputs": [
      {
       "output_type": "stream",
       "stream": "stdout",
       "text": [
        "[  2.09648527  25.94915796]\n",
        "[  2.37910064  36.249106  ]\n"
       ]
      }
     ],
     "prompt_number": 12
    },
    {
     "cell_type": "code",
     "collapsed": false,
     "input": [],
     "language": "python",
     "metadata": {},
     "outputs": [],
     "prompt_number": 142
    },
    {
     "cell_type": "code",
     "collapsed": false,
     "input": [],
     "language": "python",
     "metadata": {},
     "outputs": [],
     "prompt_number": 142
    },
    {
     "cell_type": "code",
     "collapsed": false,
     "input": [],
     "language": "python",
     "metadata": {},
     "outputs": []
    }
   ],
   "metadata": {}
  }
 ]
}