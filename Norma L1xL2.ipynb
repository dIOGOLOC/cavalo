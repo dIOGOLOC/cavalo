{
 "metadata": {
  "name": "Norma L1xL2"
 },
 "nbformat": 3,
 "nbformat_minor": 0,
 "worksheets": [
  {
   "cells": [
    {
     "cell_type": "code",
     "collapsed": false,
     "input": [
      "%pylab inline"
     ],
     "language": "python",
     "metadata": {},
     "outputs": [
      {
       "output_type": "stream",
       "stream": "stdout",
       "text": [
        "\n",
        "Welcome to pylab, a matplotlib-based Python environment [backend: module://IPython.zmq.pylab.backend_inline].\n",
        "For more information, type 'help(pylab)'.\n"
       ]
      }
     ],
     "prompt_number": 152
    },
    {
     "cell_type": "code",
     "collapsed": false,
     "input": [
      "from __future__ import print_function\n",
      "import numpy as np\n",
      "import matplotlib.pyplot as plt"
     ],
     "language": "python",
     "metadata": {},
     "outputs": [],
     "prompt_number": 153
    },
    {
     "cell_type": "code",
     "collapsed": false,
     "input": [
      "#Exerc\u00edcio pr\u00e1tico numero 2: Norma L1xL2\n",
      "\n",
      "#Sendo: x= posi\u00e7\u00e3o, pt=par\u00e2metros verdadeiros\n",
      "\n",
      "x=np.linspace(1,100,100)\n",
      "n=len(x)\n",
      "\n",
      "pt=[2,30]\n",
      "\n",
      "#Matriz Sensibilidade\n",
      "\n",
      "a=np.array([x,np.ones(n)]).T\n",
      "\n",
      "#Calculando os dados pelo modelo Direto:\n",
      "#yc=dados calculados\n",
      "\n",
      "yc=np.dot(a,pt)\n",
      "\n",
      "#Estabelecendo valores para os outliers:\n",
      "\n",
      "out=10\n",
      "\n",
      "#Contaminando os dados com dados esp\u00f3rios:S\n",
      "\n",
      "yc[np.random.randint(0,len(yc),out)] += np.random.uniform(200,300,out)\n",
      "plt.plot(x,yc)\n",
      "\n"
     ],
     "language": "python",
     "metadata": {},
     "outputs": [
      {
       "output_type": "pyout",
       "prompt_number": 154,
       "text": [
        "[<matplotlib.lines.Line2D at 0x7d638d0>]"
       ]
      },
      {
       "output_type": "display_data",
       "png": "[encoded data removed]"
      }
     ],
     "prompt_number": 154
    },
    {
     "cell_type": "code",
     "collapsed": false,
     "input": [
      "#Gerando Ruido Aleat\u00f3rio(r) distribu\u00eddo uniformemente com 0.02% da m\u00e9dia dos dados calculados(ymed):\n",
      "\n",
      "ymed=(np.amax(yc)-np.amin(yc))/2\n",
      "\n",
      "r=np.random.normal(scale=0.05*ymed, size=len(yc))"
     ],
     "language": "python",
     "metadata": {},
     "outputs": [],
     "prompt_number": 155
    },
    {
     "cell_type": "code",
     "collapsed": false,
     "input": [
      "#Calculando os dados observados(dados calculados somados aos res\u00edduos aleat\u00f3rios):\n",
      "\n",
      "yobs=yc+r"
     ],
     "language": "python",
     "metadata": {},
     "outputs": [],
     "prompt_number": 156
    },
    {
     "cell_type": "code",
     "collapsed": false,
     "input": [
      "#Calculando os par\u00e2metros(pl2) atrav\u00e9s da Norma L2:\n",
      "#Multiplica\u00e7\u00e3o da inv(a.T*a)*a.T*yobs\n",
      "\n",
      "b=np.linalg.inv(np.dot(a.T,a))\n",
      "c=np.dot(b,a.T)\n",
      "pl2=np.dot(c,yobs)\n",
      "print(pl2)"
     ],
     "language": "python",
     "metadata": {},
     "outputs": [
      {
       "output_type": "stream",
       "stream": "stdout",
       "text": [
        "[  1.67663624  69.41711552]\n"
       ]
      }
     ],
     "prompt_number": 157
    },
    {
     "cell_type": "code",
     "collapsed": false,
     "input": [
      "#Fazendo a invers\u00e3o dos dados utilizando os par\u00e2metros calculados com a Norma L2:\n",
      "#Multilica\u00e7\u00e3o da matriz sensibilidaade(a) pelo par\u00e2metros da Norma L2(pl2):\n",
      "\n",
      "y2=np.dot(a,pl2)\n",
      "print(y2)"
     ],
     "language": "python",
     "metadata": {},
     "outputs": [
      {
       "output_type": "stream",
       "stream": "stdout",
       "text": [
        "[  71.09375177   72.77038801   74.44702426   76.1236605    77.80029675\n",
        "   79.47693299   81.15356923   82.83020548   84.50684172   86.18347797\n",
        "   87.86011421   89.53675046   91.2133867    92.89002295   94.56665919\n",
        "   96.24329543   97.91993168   99.59656792  101.27320417  102.94984041\n",
        "  104.62647666  106.3031129   107.97974914  109.65638539  111.33302163\n",
        "  113.00965788  114.68629412  116.36293037  118.03956661  119.71620286\n",
        "  121.3928391   123.06947534  124.74611159  126.42274783  128.09938408\n",
        "  129.77602032  131.45265657  133.12929281  134.80592906  136.4825653\n",
        "  138.15920154  139.83583779  141.51247403  143.18911028  144.86574652\n",
        "  146.54238277  148.21901901  149.89565525  151.5722915   153.24892774\n",
        "  154.92556399  156.60220023  158.27883648  159.95547272  161.63210897\n",
        "  163.30874521  164.98538145  166.6620177   168.33865394  170.01529019\n",
        "  171.69192643  173.36856268  175.04519892  176.72183517  178.39847141\n",
        "  180.07510765  181.7517439   183.42838014  185.10501639  186.78165263\n",
        "  188.45828888  190.13492512  191.81156137  193.48819761  195.16483385\n",
        "  196.8414701   198.51810634  200.19474259  201.87137883  203.54801508\n",
        "  205.22465132  206.90128756  208.57792381  210.25456005  211.9311963\n",
        "  213.60783254  215.28446879  216.96110503  218.63774128  220.31437752\n",
        "  221.99101376  223.66765001  225.34428625  227.0209225   228.69755874\n",
        "  230.37419499  232.05083123  233.72746748  235.40410372  237.08073996]\n"
       ]
      }
     ],
     "prompt_number": 158
    },
    {
     "cell_type": "code",
     "collapsed": false,
     "input": [
      "#Calculando a Norma L2:\n",
      "\n",
      "norma2=np.linalg.norm(yobs-y2,2)/len(y2)\n",
      "print(norma2)\n"
     ],
     "language": "python",
     "metadata": {},
     "outputs": [
      {
       "output_type": "stream",
       "stream": "stdout",
       "text": [
        "7.28454883593\n"
       ]
      }
     ],
     "prompt_number": 159
    },
    {
     "cell_type": "code",
     "collapsed": false,
     "input": [
      "#Calculando a Norma L1\n",
      "#Calcula-se o res\u00edduo e estipula-se uma toler\u00e2ncia para o res\u00edduo(tolrs) e outra para o ajuste(tolx).\n",
      "#Para assim fazer um calculo interativo do peso. (M\u00ednimos reponderados)\n",
      "\n",
      "tolrs=0.000005\n",
      "tolx=0.000005\n",
      "rs=y2-yobs\n",
      "norma1=np.linalg.norm(rs)\n",
      "\n",
      "for i in range(len(y2)):\n",
      "    w=1./tolrs*np.ones_like(rs)\n",
      "    w[np.abs(rs)>=tolrs]=np.abs(1./rs[np.abs(rs)>=tolrs])\n",
      "    W=np.diag(w)\n",
      "    pl1a=np.dot(W,a)\n",
      "    pl1b=np.linalg.inv(np.dot(a.T,pl1a))\n",
      "    pl1c=np.dot(pl1b,a.T)\n",
      "    pl1d=np.dot(pl1c,W)\n",
      "    pl1=np.dot(pl1d,yobs)\n",
      "    y1=np.dot(a,pl1)\n",
      "    rs=y1-yobs\n",
      "    if abs(np.linalg.norm(rs,1)-norma1)/norma1 < tolx:\n",
      "        break\n",
      "    norm1=np.linalg.norm(rs,1)"
     ],
     "language": "python",
     "metadata": {},
     "outputs": [],
     "prompt_number": 160
    },
    {
     "cell_type": "code",
     "collapsed": false,
     "input": [
      "#Fazendo o gr\u00e1fico comparando as normas L1 e L2:\n",
      "plt.plot(x,yobs,'.r',x,y1,'--k',x,y2,'-g')\n",
      "plt.legend(('yobs', 'y L1', 'y L2'),'lower right', fancybox=True)\n",
      "plt.xlabel('x')\n",
      "plt.ylabel('y')\n",
      "\n",
      "\n"
     ],
     "language": "python",
     "metadata": {},
     "outputs": [
      {
       "output_type": "pyout",
       "prompt_number": 161,
       "text": [
        "<matplotlib.text.Text at 0x7d75710>"
       ]
      },
      {
       "output_type": "display_data",
       "png": "[encoded data removed]"
      }
     ],
     "prompt_number": 161
    },
    {
     "cell_type": "code",
     "collapsed": false,
     "input": [
      "#Calculando a Norma L1:\n",
      "norma1=np.linalg.norm(yobs-y2,1)/len(y2)\n",
      "print(norma1)\n"
     ],
     "language": "python",
     "metadata": {},
     "outputs": [
      {
       "output_type": "stream",
       "stream": "stdout",
       "text": [
        "41.3150181311\n"
       ]
      }
     ],
     "prompt_number": 162
    },
    {
     "cell_type": "code",
     "collapsed": false,
     "input": [
      "#Comparandos os Par\u00e2metros estimados pela Norma L1 e L2:\n",
      "\n",
      "print(pl1)\n",
      "print(pl2)"
     ],
     "language": "python",
     "metadata": {},
     "outputs": [
      {
       "output_type": "stream",
       "stream": "stdout",
       "text": [
        "[  2.01092039  32.01889474]\n",
        "[  1.67663624  69.41711552]\n"
       ]
      }
     ],
     "prompt_number": 163
    },
    {
     "cell_type": "code",
     "collapsed": false,
     "input": [],
     "language": "python",
     "metadata": {},
     "outputs": [],
     "prompt_number": 142
    },
    {
     "cell_type": "code",
     "collapsed": false,
     "input": [],
     "language": "python",
     "metadata": {},
     "outputs": [],
     "prompt_number": 142
    },
    {
     "cell_type": "code",
     "collapsed": false,
     "input": [],
     "language": "python",
     "metadata": {},
     "outputs": []
    }
   ],
   "metadata": {}
  }
 ]
}