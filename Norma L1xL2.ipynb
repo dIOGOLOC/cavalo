{
 "metadata": {
  "name": "Norma L1xL2"
 },
 "nbformat": 3,
 "nbformat_minor": 0,
 "worksheets": [
  {
   "cells": [
    {
     "cell_type": "code",
     "collapsed": false,
     "input": [
      "%pylab inline"
     ],
     "language": "python",
     "metadata": {},
     "outputs": [
      {
       "output_type": "stream",
       "stream": "stdout",
       "text": [
        "\n",
        "Welcome to pylab, a matplotlib-based Python environment [backend: module://IPython.zmq.pylab.backend_inline].\n",
        "For more information, type 'help(pylab)'.\n"
       ]
      }
     ],
     "prompt_number": 119
    },
    {
     "cell_type": "code",
     "collapsed": false,
     "input": [
      "from __future__ import print_function\n",
      "import numpy as np\n",
      "import matplotlib.pyplot as plt"
     ],
     "language": "python",
     "metadata": {},
     "outputs": [],
     "prompt_number": 120
    },
    {
     "cell_type": "code",
     "collapsed": false,
     "input": [
      "#Exerc\u00edcio pr\u00e1tico numero 2: Norma L1xL2\n",
      "\n",
      "#Sendo: x= posi\u00e7\u00e3o, pt=par\u00e2metros verdadeiros\n",
      "\n",
      "x=np.linspace(1,100,100)\n",
      "n=len(x)\n",
      "\n",
      "pt=[2,30]\n",
      "\n",
      "#Matriz Sensibilidade\n",
      "\n",
      "a=np.array([x,np.ones(n)]).T\n",
      "\n",
      "#Calculando os dados pelo modelo Direto:\n",
      "#yc=dados calculados\n",
      "\n",
      "yc=np.dot(a,pt)\n",
      "\n",
      "#Estabelecendo valores para os outliers:\n",
      "\n",
      "out=10\n",
      "\n",
      "#Contaminando os dados com dados esp\u00f3rios:S\n",
      "\n",
      "yc[np.random.randint(0,len(yc),out)] += np.random.uniform(200,300,out)\n",
      "plt.plot(x,yc)\n",
      "\n"
     ],
     "language": "python",
     "metadata": {},
     "outputs": [
      {
       "output_type": "pyout",
       "prompt_number": 121,
       "text": [
        "[<matplotlib.lines.Line2D at 0x6af6710>]"
       ]
      },
      {
       "output_type": "display_data",
       "png": "[encoded data removed]"
      }
     ],
     "prompt_number": 121
    },
    {
     "cell_type": "code",
     "collapsed": false,
     "input": [
      "#Gerando Ruido Aleat\u00f3rio(r) distribu\u00eddo uniformemente com 0.02% da m\u00e9dia dos dados calculados(ymed):\n",
      "\n",
      "ymed=(np.amax(yc)-np.amin(yc))/2\n",
      "\n",
      "r=np.random.normal(scale=0.05*ymed, size=len(yc))"
     ],
     "language": "python",
     "metadata": {},
     "outputs": [],
     "prompt_number": 122
    },
    {
     "cell_type": "code",
     "collapsed": false,
     "input": [
      "#Calculando os dados observados(dados calculados somados aos res\u00edduos aleat\u00f3rios):\n",
      "\n",
      "yobs=yc+r"
     ],
     "language": "python",
     "metadata": {},
     "outputs": [],
     "prompt_number": 123
    },
    {
     "cell_type": "code",
     "collapsed": false,
     "input": [
      "#Calculando os par\u00e2metros(pl2) atrav\u00e9s da Norma L2:\n",
      "#Multiplica\u00e7\u00e3o da inv(a.T*a)*a.T*yobs\n",
      "\n",
      "b=np.linalg.inv(np.dot(a.T,a))\n",
      "c=np.dot(b,a.T)\n",
      "pl2=np.dot(c,yobs)\n",
      "print(pl2)"
     ],
     "language": "python",
     "metadata": {},
     "outputs": [
      {
       "output_type": "stream",
       "stream": "stdout",
       "text": [
        "[  1.7258469  65.6468112]\n"
       ]
      }
     ],
     "prompt_number": 124
    },
    {
     "cell_type": "code",
     "collapsed": false,
     "input": [
      "#Fazendo a invers\u00e3o dos dados utilizando os par\u00e2metros calculados com a Norma L2:\n",
      "#Multilica\u00e7\u00e3o da matriz sensibilidaade(a) pelo par\u00e2metros da Norma L2(pl2):\n",
      "\n",
      "y2=np.dot(a,pl2)\n",
      "print(y2)"
     ],
     "language": "python",
     "metadata": {},
     "outputs": [
      {
       "output_type": "stream",
       "stream": "stdout",
       "text": [
        "[  67.37265809   69.09850499   70.82435189   72.55019878   74.27604568\n",
        "   76.00189257   77.72773947   79.45358637   81.17943326   82.90528016\n",
        "   84.63112706   86.35697395   88.08282085   89.80866774   91.53451464\n",
        "   93.26036154   94.98620843   96.71205533   98.43790223  100.16374912\n",
        "  101.88959602  103.61544291  105.34128981  107.06713671  108.7929836\n",
        "  110.5188305   112.2446774   113.97052429  115.69637119  117.42221808\n",
        "  119.14806498  120.87391188  122.59975877  124.32560567  126.05145257\n",
        "  127.77729946  129.50314636  131.22899325  132.95484015  134.68068705\n",
        "  136.40653394  138.13238084  139.85822774  141.58407463  143.30992153\n",
        "  145.03576842  146.76161532  148.48746222  150.21330911  151.93915601\n",
        "  153.66500291  155.3908498   157.1166967   158.84254359  160.56839049\n",
        "  162.29423739  164.02008428  165.74593118  167.47177808  169.19762497\n",
        "  170.92347187  172.64931876  174.37516566  176.10101256  177.82685945\n",
        "  179.55270635  181.27855325  183.00440014  184.73024704  186.45609393\n",
        "  188.18194083  189.90778773  191.63363462  193.35948152  195.08532842\n",
        "  196.81117531  198.53702221  200.2628691   201.988716    203.7145629\n",
        "  205.44040979  207.16625669  208.89210359  210.61795048  212.34379738\n",
        "  214.06964427  215.79549117  217.52133807  219.24718496  220.97303186\n",
        "  222.69887876  224.42472565  226.15057255  227.87641944  229.60226634\n",
        "  231.32811324  233.05396013  234.77980703  236.50565393  238.23150082]\n"
       ]
      }
     ],
     "prompt_number": 125
    },
    {
     "cell_type": "code",
     "collapsed": false,
     "input": [
      "#Calculando a Norma L2:\n",
      "\n",
      "norma2=np.linalg.norm(yobs-y2,2)/len(y2)\n",
      "print(norma2)\n"
     ],
     "language": "python",
     "metadata": {},
     "outputs": [
      {
       "output_type": "stream",
       "stream": "stdout",
       "text": [
        "6.95067488891\n"
       ]
      }
     ],
     "prompt_number": 126
    },
    {
     "cell_type": "code",
     "collapsed": false,
     "input": [
      "#Calculando a Norma L1\n",
      "#Calcula-se o res\u00edduo e estipula-se uma toler\u00e2ncia para o res\u00edduo(tolrs) e outra para o ajuste(tolx).\n",
      "#Para assim fazer um calculo interativo do peso. (M\u00ednimos reponderados)\n",
      "\n",
      "tolrs=0.000005\n",
      "tolx=0.000005\n",
      "rs=y2-yobs\n",
      "norma1=np.linalg.norm(rs)\n",
      "\n",
      "for i in range(len(y2)):\n",
      "    w=1./tolrs*np.ones_like(rs)\n",
      "    w[np.abs(rs)>=tolrs]=np.abs(1./rs[np.abs(rs)>=tolrs])\n",
      "    W=np.diag(w)\n",
      "    pl1a=np.dot(W,a)\n",
      "    pl1b=np.linalg.inv(np.dot(a.T,pl1a))\n",
      "    pl1c=np.dot(pl1b,a.T)\n",
      "    pl1d=np.dot(pl1c,W)\n",
      "    pl1=np.dot(pl1d,yobs)\n",
      "    y1=np.dot(a,pl1)\n",
      "    rs=y1-yobs\n",
      "    if abs(np.linalg.norm(rs,1)-norma1)/norma1 < tolx:\n",
      "        break\n",
      "    norm1=np.linalg.norm(rs,1)"
     ],
     "language": "python",
     "metadata": {},
     "outputs": [],
     "prompt_number": 127
    },
    {
     "cell_type": "code",
     "collapsed": false,
     "input": [
      "#Fazendo o gr\u00e1fico comparando as normas L1 e L2:\n",
      "plt.plot(x,yobs,'.r',x,y1,'--k',x,y2,'-g')\n",
      "plt.xlabel('x')\n",
      "plt.ylabel('y')\n"
     ],
     "language": "python",
     "metadata": {},
     "outputs": [
      {
       "output_type": "pyout",
       "prompt_number": 128,
       "text": [
        "<matplotlib.text.Text at 0x6b05290>"
       ]
      },
      {
       "output_type": "display_data",
       "png": "[encoded data removed]"
      }
     ],
     "prompt_number": 128
    },
    {
     "cell_type": "code",
     "collapsed": false,
     "input": [
      "#Calculando a Norma L1:\n",
      "norma1=np.linalg.norm(yobs-y2,2)/len(y2)\n",
      "print(norma1)\n"
     ],
     "language": "python",
     "metadata": {},
     "outputs": [
      {
       "output_type": "stream",
       "stream": "stdout",
       "text": [
        "6.95067488891\n"
       ]
      }
     ],
     "prompt_number": 129
    },
    {
     "cell_type": "code",
     "collapsed": false,
     "input": [
      "#Comparandos os Par\u00e2metros estimados pela Norma L1 e L2:\n",
      "\n",
      "print(pl1)\n",
      "print(pl2)"
     ],
     "language": "python",
     "metadata": {},
     "outputs": [
      {
       "output_type": "stream",
       "stream": "stdout",
       "text": [
        "[  2.04716878  28.5139033 ]\n",
        "[  1.7258469  65.6468112]\n"
       ]
      }
     ],
     "prompt_number": 130
    },
    {
     "cell_type": "code",
     "collapsed": false,
     "input": [],
     "language": "python",
     "metadata": {},
     "outputs": [],
     "prompt_number": 130
    },
    {
     "cell_type": "code",
     "collapsed": false,
     "input": [],
     "language": "python",
     "metadata": {},
     "outputs": [],
     "prompt_number": 115
    },
    {
     "cell_type": "code",
     "collapsed": false,
     "input": [],
     "language": "python",
     "metadata": {},
     "outputs": []
    }
   ],
   "metadata": {}
  }
 ]
}